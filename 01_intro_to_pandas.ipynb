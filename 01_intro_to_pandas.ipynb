{
 "cells": [
  {
   "cell_type": "markdown",
   "metadata": {},
   "source": [
    "# Pandas (Pannel Data Aanalysis)\n",
    "- Abbre: Python and Data Analysis\n",
    "- Data Manipulation\n",
    "- Data Analysis"
   ]
  },
  {
   "cell_type": "markdown",
   "metadata": {},
   "source": [
    "### Data Manipulation:\n",
    "- Manipulation of data is the process of manipulating(handling) or changing information to make it more organized and readable."
   ]
  },
  {
   "cell_type": "markdown",
   "metadata": {},
   "source": [
    "#### Purpose:\n",
    "1. Consistent Data\n",
    "2. Project Related Data\n",
    "3. Create more value from Data\n",
    "4. Remove or Ignore Data"
   ]
  },
  {
   "cell_type": "markdown",
   "metadata": {},
   "source": [
    "After Data Manipulation comes\n",
    "### Data Analysis\n",
    "- Virtual part of business\n",
    "- Learn and adapt (Nokia, Samsung, Apple)\n",
    "- Data driven decision making (Youtube Channel)\n",
    "- Data driven policy making (Methane Emission, Pollution, etc.)\n",
    "- How many likes and responses?\n",
    "- Should I continue the course?\n",
    "- How international we are?\n",
    "- How good is our model?\n",
    "- Should we ban diesel cars? or import more gas cars?\n",
    "- Percent of people?\n",
    "- Engineering work performances"
   ]
  },
  {
   "cell_type": "markdown",
   "metadata": {},
   "source": [
    "### Types of Data Analysis\n",
    "1. Descriptive Analytics - What happened?\n",
    "2. Diagnostic Analytics - Why did it happen?\n",
    "3. Predictive Analytics - What is likely to happen in the future? (likelihood)\n",
    "4. Prescriptive Analytics - What is the best course of action to take?"
   ]
  },
  {
   "cell_type": "markdown",
   "metadata": {},
   "source": []
  }
 ],
 "metadata": {
  "language_info": {
   "name": "python"
  },
  "orig_nbformat": 4
 },
 "nbformat": 4,
 "nbformat_minor": 2
}
