{
 "cells": [
  {
   "cell_type": "markdown",
   "metadata": {},
   "source": [
    "# Pandas - Python Library"
   ]
  },
  {
   "cell_type": "code",
   "execution_count": 2,
   "metadata": {},
   "outputs": [],
   "source": [
    "# Installing libraries\n",
    "# pip3 install pandas\n",
    "# pip3 install numpy"
   ]
  },
  {
   "cell_type": "markdown",
   "metadata": {},
   "source": [
    "- ### Importing libraries"
   ]
  },
  {
   "cell_type": "code",
   "execution_count": 3,
   "metadata": {},
   "outputs": [],
   "source": [
    "import pandas as pd\n",
    "import numpy as np"
   ]
  },
  {
   "cell_type": "code",
   "execution_count": 4,
   "metadata": {},
   "outputs": [
    {
     "data": {
      "text/plain": [
       "0    1.0\n",
       "1    3.0\n",
       "2    NaN\n",
       "3    5.0\n",
       "4    7.0\n",
       "5    8.0\n",
       "6    9.0\n",
       "dtype: float64"
      ]
     },
     "execution_count": 4,
     "metadata": {},
     "output_type": "execute_result"
    }
   ],
   "source": [
    "# Objects creation\n",
    "s = pd.Series([1, 3, np.nan ,5, 7, 8, 9]) # Series -> Column\n",
    "s"
   ]
  },
  {
   "cell_type": "code",
   "execution_count": 5,
   "metadata": {},
   "outputs": [
    {
     "data": {
      "text/plain": [
       "DatetimeIndex(['2023-01-01', '2023-01-02', '2023-01-03', '2023-01-04',\n",
       "               '2023-01-05', '2023-01-06'],\n",
       "              dtype='datetime64[ns]', freq='D')"
      ]
     },
     "execution_count": 5,
     "metadata": {},
     "output_type": "execute_result"
    }
   ],
   "source": [
    "dates = pd.date_range('20230101', periods=6)\n",
    "dates"
   ]
  },
  {
   "cell_type": "code",
   "execution_count": 6,
   "metadata": {},
   "outputs": [
    {
     "data": {
      "text/html": [
       "<div>\n",
       "<style scoped>\n",
       "    .dataframe tbody tr th:only-of-type {\n",
       "        vertical-align: middle;\n",
       "    }\n",
       "\n",
       "    .dataframe tbody tr th {\n",
       "        vertical-align: top;\n",
       "    }\n",
       "\n",
       "    .dataframe thead th {\n",
       "        text-align: right;\n",
       "    }\n",
       "</style>\n",
       "<table border=\"1\" class=\"dataframe\">\n",
       "  <thead>\n",
       "    <tr style=\"text-align: right;\">\n",
       "      <th></th>\n",
       "      <th>A</th>\n",
       "      <th>B</th>\n",
       "      <th>C</th>\n",
       "      <th>D</th>\n",
       "    </tr>\n",
       "  </thead>\n",
       "  <tbody>\n",
       "    <tr>\n",
       "      <th>2023-01-01</th>\n",
       "      <td>0.429840</td>\n",
       "      <td>-2.303945</td>\n",
       "      <td>0.515375</td>\n",
       "      <td>0.579725</td>\n",
       "    </tr>\n",
       "    <tr>\n",
       "      <th>2023-01-02</th>\n",
       "      <td>-0.344853</td>\n",
       "      <td>2.235077</td>\n",
       "      <td>0.975512</td>\n",
       "      <td>1.189974</td>\n",
       "    </tr>\n",
       "    <tr>\n",
       "      <th>2023-01-03</th>\n",
       "      <td>0.484602</td>\n",
       "      <td>-0.371021</td>\n",
       "      <td>0.273077</td>\n",
       "      <td>-0.722815</td>\n",
       "    </tr>\n",
       "    <tr>\n",
       "      <th>2023-01-04</th>\n",
       "      <td>0.613219</td>\n",
       "      <td>-0.630227</td>\n",
       "      <td>0.437497</td>\n",
       "      <td>0.927328</td>\n",
       "    </tr>\n",
       "    <tr>\n",
       "      <th>2023-01-05</th>\n",
       "      <td>-0.092483</td>\n",
       "      <td>0.195029</td>\n",
       "      <td>-0.934935</td>\n",
       "      <td>0.586360</td>\n",
       "    </tr>\n",
       "    <tr>\n",
       "      <th>2023-01-06</th>\n",
       "      <td>0.451228</td>\n",
       "      <td>0.435695</td>\n",
       "      <td>-0.003570</td>\n",
       "      <td>0.966600</td>\n",
       "    </tr>\n",
       "  </tbody>\n",
       "</table>\n",
       "</div>"
      ],
      "text/plain": [
       "                   A         B         C         D\n",
       "2023-01-01  0.429840 -2.303945  0.515375  0.579725\n",
       "2023-01-02 -0.344853  2.235077  0.975512  1.189974\n",
       "2023-01-03  0.484602 -0.371021  0.273077 -0.722815\n",
       "2023-01-04  0.613219 -0.630227  0.437497  0.927328\n",
       "2023-01-05 -0.092483  0.195029 -0.934935  0.586360\n",
       "2023-01-06  0.451228  0.435695 -0.003570  0.966600"
      ]
     },
     "execution_count": 6,
     "metadata": {},
     "output_type": "execute_result"
    }
   ],
   "source": [
    "df = pd.DataFrame(np.random.randn(6, 4), index=dates, columns=list(\"ABCD\"))\n",
    "df"
   ]
  },
  {
   "cell_type": "code",
   "execution_count": 7,
   "metadata": {},
   "outputs": [
    {
     "data": {
      "text/html": [
       "<div>\n",
       "<style scoped>\n",
       "    .dataframe tbody tr th:only-of-type {\n",
       "        vertical-align: middle;\n",
       "    }\n",
       "\n",
       "    .dataframe tbody tr th {\n",
       "        vertical-align: top;\n",
       "    }\n",
       "\n",
       "    .dataframe thead th {\n",
       "        text-align: right;\n",
       "    }\n",
       "</style>\n",
       "<table border=\"1\" class=\"dataframe\">\n",
       "  <thead>\n",
       "    <tr style=\"text-align: right;\">\n",
       "      <th></th>\n",
       "      <th>A</th>\n",
       "      <th>B</th>\n",
       "      <th>C</th>\n",
       "      <th>D</th>\n",
       "      <th>E</th>\n",
       "      <th>F</th>\n",
       "    </tr>\n",
       "  </thead>\n",
       "  <tbody>\n",
       "    <tr>\n",
       "      <th>0</th>\n",
       "      <td>1.0</td>\n",
       "      <td>2023-07-23</td>\n",
       "      <td>1.0</td>\n",
       "      <td>3</td>\n",
       "      <td>girl</td>\n",
       "      <td>female</td>\n",
       "    </tr>\n",
       "    <tr>\n",
       "      <th>1</th>\n",
       "      <td>1.0</td>\n",
       "      <td>2023-07-23</td>\n",
       "      <td>1.0</td>\n",
       "      <td>3</td>\n",
       "      <td>woman</td>\n",
       "      <td>female</td>\n",
       "    </tr>\n",
       "    <tr>\n",
       "      <th>2</th>\n",
       "      <td>1.0</td>\n",
       "      <td>2023-07-23</td>\n",
       "      <td>1.0</td>\n",
       "      <td>3</td>\n",
       "      <td>girl</td>\n",
       "      <td>female</td>\n",
       "    </tr>\n",
       "    <tr>\n",
       "      <th>3</th>\n",
       "      <td>1.0</td>\n",
       "      <td>2023-07-23</td>\n",
       "      <td>1.0</td>\n",
       "      <td>3</td>\n",
       "      <td>woman</td>\n",
       "      <td>female</td>\n",
       "    </tr>\n",
       "  </tbody>\n",
       "</table>\n",
       "</div>"
      ],
      "text/plain": [
       "     A          B    C  D      E       F\n",
       "0  1.0 2023-07-23  1.0  3   girl  female\n",
       "1  1.0 2023-07-23  1.0  3  woman  female\n",
       "2  1.0 2023-07-23  1.0  3   girl  female\n",
       "3  1.0 2023-07-23  1.0  3  woman  female"
      ]
     },
     "execution_count": 7,
     "metadata": {},
     "output_type": "execute_result"
    }
   ],
   "source": [
    "# Creating Dataframe using Dictionary\n",
    "df2 = pd.DataFrame(\n",
    "    {\n",
    "        'A': 1.0,\n",
    "        'B': pd.Timestamp('20230723'),\n",
    "        'C': pd.Series(1, index=list(range(4)), dtype=float),\n",
    "        'D': np.array([3] * 4, dtype=\"int32\"),\n",
    "        'E': pd.Categorical(['girl', 'woman', 'girl', 'woman']),\n",
    "        'F': 'female', \n",
    "    }\n",
    ")\n",
    "df2"
   ]
  },
  {
   "cell_type": "code",
   "execution_count": 8,
   "metadata": {},
   "outputs": [
    {
     "data": {
      "text/plain": [
       "A           float64\n",
       "B    datetime64[ns]\n",
       "C           float64\n",
       "D             int32\n",
       "E          category\n",
       "F            object\n",
       "dtype: object"
      ]
     },
     "execution_count": 8,
     "metadata": {},
     "output_type": "execute_result"
    }
   ],
   "source": [
    "df2.dtypes"
   ]
  },
  {
   "cell_type": "code",
   "execution_count": 9,
   "metadata": {},
   "outputs": [
    {
     "data": {
      "text/html": [
       "<div>\n",
       "<style scoped>\n",
       "    .dataframe tbody tr th:only-of-type {\n",
       "        vertical-align: middle;\n",
       "    }\n",
       "\n",
       "    .dataframe tbody tr th {\n",
       "        vertical-align: top;\n",
       "    }\n",
       "\n",
       "    .dataframe thead th {\n",
       "        text-align: right;\n",
       "    }\n",
       "</style>\n",
       "<table border=\"1\" class=\"dataframe\">\n",
       "  <thead>\n",
       "    <tr style=\"text-align: right;\">\n",
       "      <th></th>\n",
       "      <th>A</th>\n",
       "      <th>B</th>\n",
       "      <th>C</th>\n",
       "      <th>D</th>\n",
       "    </tr>\n",
       "  </thead>\n",
       "  <tbody>\n",
       "    <tr>\n",
       "      <th>2023-01-01</th>\n",
       "      <td>0.429840</td>\n",
       "      <td>-2.303945</td>\n",
       "      <td>0.515375</td>\n",
       "      <td>0.579725</td>\n",
       "    </tr>\n",
       "    <tr>\n",
       "      <th>2023-01-02</th>\n",
       "      <td>-0.344853</td>\n",
       "      <td>2.235077</td>\n",
       "      <td>0.975512</td>\n",
       "      <td>1.189974</td>\n",
       "    </tr>\n",
       "    <tr>\n",
       "      <th>2023-01-03</th>\n",
       "      <td>0.484602</td>\n",
       "      <td>-0.371021</td>\n",
       "      <td>0.273077</td>\n",
       "      <td>-0.722815</td>\n",
       "    </tr>\n",
       "  </tbody>\n",
       "</table>\n",
       "</div>"
      ],
      "text/plain": [
       "                   A         B         C         D\n",
       "2023-01-01  0.429840 -2.303945  0.515375  0.579725\n",
       "2023-01-02 -0.344853  2.235077  0.975512  1.189974\n",
       "2023-01-03  0.484602 -0.371021  0.273077 -0.722815"
      ]
     },
     "execution_count": 9,
     "metadata": {},
     "output_type": "execute_result"
    }
   ],
   "source": [
    "df.head(3)"
   ]
  },
  {
   "cell_type": "code",
   "execution_count": 10,
   "metadata": {},
   "outputs": [
    {
     "data": {
      "text/html": [
       "<div>\n",
       "<style scoped>\n",
       "    .dataframe tbody tr th:only-of-type {\n",
       "        vertical-align: middle;\n",
       "    }\n",
       "\n",
       "    .dataframe tbody tr th {\n",
       "        vertical-align: top;\n",
       "    }\n",
       "\n",
       "    .dataframe thead th {\n",
       "        text-align: right;\n",
       "    }\n",
       "</style>\n",
       "<table border=\"1\" class=\"dataframe\">\n",
       "  <thead>\n",
       "    <tr style=\"text-align: right;\">\n",
       "      <th></th>\n",
       "      <th>A</th>\n",
       "      <th>B</th>\n",
       "      <th>C</th>\n",
       "      <th>D</th>\n",
       "    </tr>\n",
       "  </thead>\n",
       "  <tbody>\n",
       "    <tr>\n",
       "      <th>2023-01-05</th>\n",
       "      <td>-0.092483</td>\n",
       "      <td>0.195029</td>\n",
       "      <td>-0.934935</td>\n",
       "      <td>0.58636</td>\n",
       "    </tr>\n",
       "    <tr>\n",
       "      <th>2023-01-06</th>\n",
       "      <td>0.451228</td>\n",
       "      <td>0.435695</td>\n",
       "      <td>-0.003570</td>\n",
       "      <td>0.96660</td>\n",
       "    </tr>\n",
       "  </tbody>\n",
       "</table>\n",
       "</div>"
      ],
      "text/plain": [
       "                   A         B         C        D\n",
       "2023-01-05 -0.092483  0.195029 -0.934935  0.58636\n",
       "2023-01-06  0.451228  0.435695 -0.003570  0.96660"
      ]
     },
     "execution_count": 10,
     "metadata": {},
     "output_type": "execute_result"
    }
   ],
   "source": [
    "df.tail(2)"
   ]
  },
  {
   "cell_type": "code",
   "execution_count": 11,
   "metadata": {},
   "outputs": [
    {
     "data": {
      "text/plain": [
       "DatetimeIndex(['2023-01-01', '2023-01-02', '2023-01-03', '2023-01-04',\n",
       "               '2023-01-05', '2023-01-06'],\n",
       "              dtype='datetime64[ns]', freq='D')"
      ]
     },
     "execution_count": 11,
     "metadata": {},
     "output_type": "execute_result"
    }
   ],
   "source": [
    "df.index # row's name / head"
   ]
  },
  {
   "cell_type": "code",
   "execution_count": 12,
   "metadata": {},
   "outputs": [
    {
     "data": {
      "text/plain": [
       "Index([0, 1, 2, 3], dtype='int64')"
      ]
     },
     "execution_count": 12,
     "metadata": {},
     "output_type": "execute_result"
    }
   ],
   "source": [
    "df2.index"
   ]
  },
  {
   "cell_type": "code",
   "execution_count": 13,
   "metadata": {},
   "outputs": [
    {
     "data": {
      "text/plain": [
       "array([[ 0.42983952, -2.30394507,  0.51537526,  0.57972472],\n",
       "       [-0.34485318,  2.23507708,  0.9755117 ,  1.18997399],\n",
       "       [ 0.48460216, -0.37102057,  0.27307743, -0.72281481],\n",
       "       [ 0.61321931, -0.63022726,  0.43749663,  0.92732778],\n",
       "       [-0.09248275,  0.19502924, -0.93493453,  0.58635987],\n",
       "       [ 0.4512284 ,  0.43569542, -0.00357007,  0.9665998 ]])"
      ]
     },
     "execution_count": 13,
     "metadata": {},
     "output_type": "execute_result"
    }
   ],
   "source": [
    "df.to_numpy() # To create or convert to numpy's array   "
   ]
  },
  {
   "cell_type": "code",
   "execution_count": 14,
   "metadata": {},
   "outputs": [
    {
     "data": {
      "text/plain": [
       "array([[1.0, Timestamp('2023-07-23 00:00:00'), 1.0, 3, 'girl', 'female'],\n",
       "       [1.0, Timestamp('2023-07-23 00:00:00'), 1.0, 3, 'woman', 'female'],\n",
       "       [1.0, Timestamp('2023-07-23 00:00:00'), 1.0, 3, 'girl', 'female'],\n",
       "       [1.0, Timestamp('2023-07-23 00:00:00'), 1.0, 3, 'woman', 'female']],\n",
       "      dtype=object)"
      ]
     },
     "execution_count": 14,
     "metadata": {},
     "output_type": "execute_result"
    }
   ],
   "source": [
    "df2.to_numpy()"
   ]
  },
  {
   "cell_type": "code",
   "execution_count": 15,
   "metadata": {},
   "outputs": [
    {
     "data": {
      "text/html": [
       "<div>\n",
       "<style scoped>\n",
       "    .dataframe tbody tr th:only-of-type {\n",
       "        vertical-align: middle;\n",
       "    }\n",
       "\n",
       "    .dataframe tbody tr th {\n",
       "        vertical-align: top;\n",
       "    }\n",
       "\n",
       "    .dataframe thead th {\n",
       "        text-align: right;\n",
       "    }\n",
       "</style>\n",
       "<table border=\"1\" class=\"dataframe\">\n",
       "  <thead>\n",
       "    <tr style=\"text-align: right;\">\n",
       "      <th></th>\n",
       "      <th>A</th>\n",
       "      <th>B</th>\n",
       "      <th>C</th>\n",
       "      <th>D</th>\n",
       "    </tr>\n",
       "  </thead>\n",
       "  <tbody>\n",
       "    <tr>\n",
       "      <th>count</th>\n",
       "      <td>6.000000</td>\n",
       "      <td>6.000000</td>\n",
       "      <td>6.000000</td>\n",
       "      <td>6.000000</td>\n",
       "    </tr>\n",
       "    <tr>\n",
       "      <th>mean</th>\n",
       "      <td>0.256926</td>\n",
       "      <td>-0.073232</td>\n",
       "      <td>0.210493</td>\n",
       "      <td>0.587862</td>\n",
       "    </tr>\n",
       "    <tr>\n",
       "      <th>std</th>\n",
       "      <td>0.382272</td>\n",
       "      <td>1.485548</td>\n",
       "      <td>0.646758</td>\n",
       "      <td>0.683983</td>\n",
       "    </tr>\n",
       "    <tr>\n",
       "      <th>min</th>\n",
       "      <td>-0.344853</td>\n",
       "      <td>-2.303945</td>\n",
       "      <td>-0.934935</td>\n",
       "      <td>-0.722815</td>\n",
       "    </tr>\n",
       "    <tr>\n",
       "      <th>25%</th>\n",
       "      <td>0.038098</td>\n",
       "      <td>-0.565426</td>\n",
       "      <td>0.065592</td>\n",
       "      <td>0.581384</td>\n",
       "    </tr>\n",
       "    <tr>\n",
       "      <th>50%</th>\n",
       "      <td>0.440534</td>\n",
       "      <td>-0.087996</td>\n",
       "      <td>0.355287</td>\n",
       "      <td>0.756844</td>\n",
       "    </tr>\n",
       "    <tr>\n",
       "      <th>75%</th>\n",
       "      <td>0.476259</td>\n",
       "      <td>0.375529</td>\n",
       "      <td>0.495906</td>\n",
       "      <td>0.956782</td>\n",
       "    </tr>\n",
       "    <tr>\n",
       "      <th>max</th>\n",
       "      <td>0.613219</td>\n",
       "      <td>2.235077</td>\n",
       "      <td>0.975512</td>\n",
       "      <td>1.189974</td>\n",
       "    </tr>\n",
       "  </tbody>\n",
       "</table>\n",
       "</div>"
      ],
      "text/plain": [
       "              A         B         C         D\n",
       "count  6.000000  6.000000  6.000000  6.000000\n",
       "mean   0.256926 -0.073232  0.210493  0.587862\n",
       "std    0.382272  1.485548  0.646758  0.683983\n",
       "min   -0.344853 -2.303945 -0.934935 -0.722815\n",
       "25%    0.038098 -0.565426  0.065592  0.581384\n",
       "50%    0.440534 -0.087996  0.355287  0.756844\n",
       "75%    0.476259  0.375529  0.495906  0.956782\n",
       "max    0.613219  2.235077  0.975512  1.189974"
      ]
     },
     "execution_count": 15,
     "metadata": {},
     "output_type": "execute_result"
    }
   ],
   "source": [
    "df.describe()"
   ]
  },
  {
   "cell_type": "code",
   "execution_count": 16,
   "metadata": {},
   "outputs": [
    {
     "data": {
      "text/html": [
       "<div>\n",
       "<style scoped>\n",
       "    .dataframe tbody tr th:only-of-type {\n",
       "        vertical-align: middle;\n",
       "    }\n",
       "\n",
       "    .dataframe tbody tr th {\n",
       "        vertical-align: top;\n",
       "    }\n",
       "\n",
       "    .dataframe thead th {\n",
       "        text-align: right;\n",
       "    }\n",
       "</style>\n",
       "<table border=\"1\" class=\"dataframe\">\n",
       "  <thead>\n",
       "    <tr style=\"text-align: right;\">\n",
       "      <th></th>\n",
       "      <th>2023-01-01</th>\n",
       "      <th>2023-01-02</th>\n",
       "      <th>2023-01-03</th>\n",
       "      <th>2023-01-04</th>\n",
       "      <th>2023-01-05</th>\n",
       "      <th>2023-01-06</th>\n",
       "    </tr>\n",
       "  </thead>\n",
       "  <tbody>\n",
       "    <tr>\n",
       "      <th>A</th>\n",
       "      <td>0.429840</td>\n",
       "      <td>-0.344853</td>\n",
       "      <td>0.484602</td>\n",
       "      <td>0.613219</td>\n",
       "      <td>-0.092483</td>\n",
       "      <td>0.451228</td>\n",
       "    </tr>\n",
       "    <tr>\n",
       "      <th>B</th>\n",
       "      <td>-2.303945</td>\n",
       "      <td>2.235077</td>\n",
       "      <td>-0.371021</td>\n",
       "      <td>-0.630227</td>\n",
       "      <td>0.195029</td>\n",
       "      <td>0.435695</td>\n",
       "    </tr>\n",
       "    <tr>\n",
       "      <th>C</th>\n",
       "      <td>0.515375</td>\n",
       "      <td>0.975512</td>\n",
       "      <td>0.273077</td>\n",
       "      <td>0.437497</td>\n",
       "      <td>-0.934935</td>\n",
       "      <td>-0.003570</td>\n",
       "    </tr>\n",
       "    <tr>\n",
       "      <th>D</th>\n",
       "      <td>0.579725</td>\n",
       "      <td>1.189974</td>\n",
       "      <td>-0.722815</td>\n",
       "      <td>0.927328</td>\n",
       "      <td>0.586360</td>\n",
       "      <td>0.966600</td>\n",
       "    </tr>\n",
       "  </tbody>\n",
       "</table>\n",
       "</div>"
      ],
      "text/plain": [
       "   2023-01-01  2023-01-02  2023-01-03  2023-01-04  2023-01-05  2023-01-06\n",
       "A    0.429840   -0.344853    0.484602    0.613219   -0.092483    0.451228\n",
       "B   -2.303945    2.235077   -0.371021   -0.630227    0.195029    0.435695\n",
       "C    0.515375    0.975512    0.273077    0.437497   -0.934935   -0.003570\n",
       "D    0.579725    1.189974   -0.722815    0.927328    0.586360    0.966600"
      ]
     },
     "execution_count": 16,
     "metadata": {},
     "output_type": "execute_result"
    }
   ],
   "source": [
    "df.T # To transpose the data"
   ]
  },
  {
   "cell_type": "code",
   "execution_count": 17,
   "metadata": {},
   "outputs": [
    {
     "data": {
      "text/html": [
       "<div>\n",
       "<style scoped>\n",
       "    .dataframe tbody tr th:only-of-type {\n",
       "        vertical-align: middle;\n",
       "    }\n",
       "\n",
       "    .dataframe tbody tr th {\n",
       "        vertical-align: top;\n",
       "    }\n",
       "\n",
       "    .dataframe thead th {\n",
       "        text-align: right;\n",
       "    }\n",
       "</style>\n",
       "<table border=\"1\" class=\"dataframe\">\n",
       "  <thead>\n",
       "    <tr style=\"text-align: right;\">\n",
       "      <th></th>\n",
       "      <th>D</th>\n",
       "      <th>C</th>\n",
       "      <th>B</th>\n",
       "      <th>A</th>\n",
       "    </tr>\n",
       "  </thead>\n",
       "  <tbody>\n",
       "    <tr>\n",
       "      <th>2023-01-01</th>\n",
       "      <td>0.579725</td>\n",
       "      <td>0.515375</td>\n",
       "      <td>-2.303945</td>\n",
       "      <td>0.429840</td>\n",
       "    </tr>\n",
       "    <tr>\n",
       "      <th>2023-01-02</th>\n",
       "      <td>1.189974</td>\n",
       "      <td>0.975512</td>\n",
       "      <td>2.235077</td>\n",
       "      <td>-0.344853</td>\n",
       "    </tr>\n",
       "    <tr>\n",
       "      <th>2023-01-03</th>\n",
       "      <td>-0.722815</td>\n",
       "      <td>0.273077</td>\n",
       "      <td>-0.371021</td>\n",
       "      <td>0.484602</td>\n",
       "    </tr>\n",
       "    <tr>\n",
       "      <th>2023-01-04</th>\n",
       "      <td>0.927328</td>\n",
       "      <td>0.437497</td>\n",
       "      <td>-0.630227</td>\n",
       "      <td>0.613219</td>\n",
       "    </tr>\n",
       "    <tr>\n",
       "      <th>2023-01-05</th>\n",
       "      <td>0.586360</td>\n",
       "      <td>-0.934935</td>\n",
       "      <td>0.195029</td>\n",
       "      <td>-0.092483</td>\n",
       "    </tr>\n",
       "    <tr>\n",
       "      <th>2023-01-06</th>\n",
       "      <td>0.966600</td>\n",
       "      <td>-0.003570</td>\n",
       "      <td>0.435695</td>\n",
       "      <td>0.451228</td>\n",
       "    </tr>\n",
       "  </tbody>\n",
       "</table>\n",
       "</div>"
      ],
      "text/plain": [
       "                   D         C         B         A\n",
       "2023-01-01  0.579725  0.515375 -2.303945  0.429840\n",
       "2023-01-02  1.189974  0.975512  2.235077 -0.344853\n",
       "2023-01-03 -0.722815  0.273077 -0.371021  0.484602\n",
       "2023-01-04  0.927328  0.437497 -0.630227  0.613219\n",
       "2023-01-05  0.586360 -0.934935  0.195029 -0.092483\n",
       "2023-01-06  0.966600 -0.003570  0.435695  0.451228"
      ]
     },
     "execution_count": 17,
     "metadata": {},
     "output_type": "execute_result"
    }
   ],
   "source": [
    "# Sorting\n",
    "df.sort_index(axis=1, ascending=False)"
   ]
  },
  {
   "cell_type": "code",
   "execution_count": 18,
   "metadata": {},
   "outputs": [
    {
     "data": {
      "text/html": [
       "<div>\n",
       "<style scoped>\n",
       "    .dataframe tbody tr th:only-of-type {\n",
       "        vertical-align: middle;\n",
       "    }\n",
       "\n",
       "    .dataframe tbody tr th {\n",
       "        vertical-align: top;\n",
       "    }\n",
       "\n",
       "    .dataframe thead th {\n",
       "        text-align: right;\n",
       "    }\n",
       "</style>\n",
       "<table border=\"1\" class=\"dataframe\">\n",
       "  <thead>\n",
       "    <tr style=\"text-align: right;\">\n",
       "      <th></th>\n",
       "      <th>A</th>\n",
       "      <th>B</th>\n",
       "      <th>C</th>\n",
       "      <th>D</th>\n",
       "    </tr>\n",
       "  </thead>\n",
       "  <tbody>\n",
       "    <tr>\n",
       "      <th>2023-01-01</th>\n",
       "      <td>0.429840</td>\n",
       "      <td>-2.303945</td>\n",
       "      <td>0.515375</td>\n",
       "      <td>0.579725</td>\n",
       "    </tr>\n",
       "    <tr>\n",
       "      <th>2023-01-02</th>\n",
       "      <td>-0.344853</td>\n",
       "      <td>2.235077</td>\n",
       "      <td>0.975512</td>\n",
       "      <td>1.189974</td>\n",
       "    </tr>\n",
       "    <tr>\n",
       "      <th>2023-01-03</th>\n",
       "      <td>0.484602</td>\n",
       "      <td>-0.371021</td>\n",
       "      <td>0.273077</td>\n",
       "      <td>-0.722815</td>\n",
       "    </tr>\n",
       "    <tr>\n",
       "      <th>2023-01-04</th>\n",
       "      <td>0.613219</td>\n",
       "      <td>-0.630227</td>\n",
       "      <td>0.437497</td>\n",
       "      <td>0.927328</td>\n",
       "    </tr>\n",
       "    <tr>\n",
       "      <th>2023-01-05</th>\n",
       "      <td>-0.092483</td>\n",
       "      <td>0.195029</td>\n",
       "      <td>-0.934935</td>\n",
       "      <td>0.586360</td>\n",
       "    </tr>\n",
       "    <tr>\n",
       "      <th>2023-01-06</th>\n",
       "      <td>0.451228</td>\n",
       "      <td>0.435695</td>\n",
       "      <td>-0.003570</td>\n",
       "      <td>0.966600</td>\n",
       "    </tr>\n",
       "  </tbody>\n",
       "</table>\n",
       "</div>"
      ],
      "text/plain": [
       "                   A         B         C         D\n",
       "2023-01-01  0.429840 -2.303945  0.515375  0.579725\n",
       "2023-01-02 -0.344853  2.235077  0.975512  1.189974\n",
       "2023-01-03  0.484602 -0.371021  0.273077 -0.722815\n",
       "2023-01-04  0.613219 -0.630227  0.437497  0.927328\n",
       "2023-01-05 -0.092483  0.195029 -0.934935  0.586360\n",
       "2023-01-06  0.451228  0.435695 -0.003570  0.966600"
      ]
     },
     "execution_count": 18,
     "metadata": {},
     "output_type": "execute_result"
    }
   ],
   "source": [
    "df.sort_index(axis=1, ascending=True)"
   ]
  },
  {
   "cell_type": "code",
   "execution_count": 19,
   "metadata": {},
   "outputs": [
    {
     "data": {
      "text/html": [
       "<div>\n",
       "<style scoped>\n",
       "    .dataframe tbody tr th:only-of-type {\n",
       "        vertical-align: middle;\n",
       "    }\n",
       "\n",
       "    .dataframe tbody tr th {\n",
       "        vertical-align: top;\n",
       "    }\n",
       "\n",
       "    .dataframe thead th {\n",
       "        text-align: right;\n",
       "    }\n",
       "</style>\n",
       "<table border=\"1\" class=\"dataframe\">\n",
       "  <thead>\n",
       "    <tr style=\"text-align: right;\">\n",
       "      <th></th>\n",
       "      <th>A</th>\n",
       "      <th>B</th>\n",
       "      <th>C</th>\n",
       "      <th>D</th>\n",
       "    </tr>\n",
       "  </thead>\n",
       "  <tbody>\n",
       "    <tr>\n",
       "      <th>2023-01-01</th>\n",
       "      <td>0.429840</td>\n",
       "      <td>-2.303945</td>\n",
       "      <td>0.515375</td>\n",
       "      <td>0.579725</td>\n",
       "    </tr>\n",
       "    <tr>\n",
       "      <th>2023-01-04</th>\n",
       "      <td>0.613219</td>\n",
       "      <td>-0.630227</td>\n",
       "      <td>0.437497</td>\n",
       "      <td>0.927328</td>\n",
       "    </tr>\n",
       "    <tr>\n",
       "      <th>2023-01-03</th>\n",
       "      <td>0.484602</td>\n",
       "      <td>-0.371021</td>\n",
       "      <td>0.273077</td>\n",
       "      <td>-0.722815</td>\n",
       "    </tr>\n",
       "    <tr>\n",
       "      <th>2023-01-05</th>\n",
       "      <td>-0.092483</td>\n",
       "      <td>0.195029</td>\n",
       "      <td>-0.934935</td>\n",
       "      <td>0.586360</td>\n",
       "    </tr>\n",
       "    <tr>\n",
       "      <th>2023-01-06</th>\n",
       "      <td>0.451228</td>\n",
       "      <td>0.435695</td>\n",
       "      <td>-0.003570</td>\n",
       "      <td>0.966600</td>\n",
       "    </tr>\n",
       "    <tr>\n",
       "      <th>2023-01-02</th>\n",
       "      <td>-0.344853</td>\n",
       "      <td>2.235077</td>\n",
       "      <td>0.975512</td>\n",
       "      <td>1.189974</td>\n",
       "    </tr>\n",
       "  </tbody>\n",
       "</table>\n",
       "</div>"
      ],
      "text/plain": [
       "                   A         B         C         D\n",
       "2023-01-01  0.429840 -2.303945  0.515375  0.579725\n",
       "2023-01-04  0.613219 -0.630227  0.437497  0.927328\n",
       "2023-01-03  0.484602 -0.371021  0.273077 -0.722815\n",
       "2023-01-05 -0.092483  0.195029 -0.934935  0.586360\n",
       "2023-01-06  0.451228  0.435695 -0.003570  0.966600\n",
       "2023-01-02 -0.344853  2.235077  0.975512  1.189974"
      ]
     },
     "execution_count": 19,
     "metadata": {},
     "output_type": "execute_result"
    }
   ],
   "source": [
    "df.sort_values(by=\"B\")"
   ]
  },
  {
   "cell_type": "code",
   "execution_count": 20,
   "metadata": {},
   "outputs": [
    {
     "data": {
      "text/html": [
       "<div>\n",
       "<style scoped>\n",
       "    .dataframe tbody tr th:only-of-type {\n",
       "        vertical-align: middle;\n",
       "    }\n",
       "\n",
       "    .dataframe tbody tr th {\n",
       "        vertical-align: top;\n",
       "    }\n",
       "\n",
       "    .dataframe thead th {\n",
       "        text-align: right;\n",
       "    }\n",
       "</style>\n",
       "<table border=\"1\" class=\"dataframe\">\n",
       "  <thead>\n",
       "    <tr style=\"text-align: right;\">\n",
       "      <th></th>\n",
       "      <th>A</th>\n",
       "      <th>B</th>\n",
       "      <th>C</th>\n",
       "      <th>D</th>\n",
       "    </tr>\n",
       "  </thead>\n",
       "  <tbody>\n",
       "    <tr>\n",
       "      <th>2023-01-01</th>\n",
       "      <td>0.429840</td>\n",
       "      <td>-2.303945</td>\n",
       "      <td>0.515375</td>\n",
       "      <td>0.579725</td>\n",
       "    </tr>\n",
       "    <tr>\n",
       "      <th>2023-01-04</th>\n",
       "      <td>0.613219</td>\n",
       "      <td>-0.630227</td>\n",
       "      <td>0.437497</td>\n",
       "      <td>0.927328</td>\n",
       "    </tr>\n",
       "    <tr>\n",
       "      <th>2023-01-03</th>\n",
       "      <td>0.484602</td>\n",
       "      <td>-0.371021</td>\n",
       "      <td>0.273077</td>\n",
       "      <td>-0.722815</td>\n",
       "    </tr>\n",
       "    <tr>\n",
       "      <th>2023-01-05</th>\n",
       "      <td>-0.092483</td>\n",
       "      <td>0.195029</td>\n",
       "      <td>-0.934935</td>\n",
       "      <td>0.586360</td>\n",
       "    </tr>\n",
       "    <tr>\n",
       "      <th>2023-01-06</th>\n",
       "      <td>0.451228</td>\n",
       "      <td>0.435695</td>\n",
       "      <td>-0.003570</td>\n",
       "      <td>0.966600</td>\n",
       "    </tr>\n",
       "    <tr>\n",
       "      <th>2023-01-02</th>\n",
       "      <td>-0.344853</td>\n",
       "      <td>2.235077</td>\n",
       "      <td>0.975512</td>\n",
       "      <td>1.189974</td>\n",
       "    </tr>\n",
       "  </tbody>\n",
       "</table>\n",
       "</div>"
      ],
      "text/plain": [
       "                   A         B         C         D\n",
       "2023-01-01  0.429840 -2.303945  0.515375  0.579725\n",
       "2023-01-04  0.613219 -0.630227  0.437497  0.927328\n",
       "2023-01-03  0.484602 -0.371021  0.273077 -0.722815\n",
       "2023-01-05 -0.092483  0.195029 -0.934935  0.586360\n",
       "2023-01-06  0.451228  0.435695 -0.003570  0.966600\n",
       "2023-01-02 -0.344853  2.235077  0.975512  1.189974"
      ]
     },
     "execution_count": 20,
     "metadata": {},
     "output_type": "execute_result"
    }
   ],
   "source": [
    "df.sort_values(by=\"B\", ascending=True)"
   ]
  },
  {
   "cell_type": "code",
   "execution_count": 21,
   "metadata": {},
   "outputs": [
    {
     "data": {
      "text/plain": [
       "2023-01-01   -2.303945\n",
       "2023-01-02    2.235077\n",
       "2023-01-03   -0.371021\n",
       "2023-01-04   -0.630227\n",
       "2023-01-05    0.195029\n",
       "2023-01-06    0.435695\n",
       "Freq: D, Name: B, dtype: float64"
      ]
     },
     "execution_count": 21,
     "metadata": {},
     "output_type": "execute_result"
    }
   ],
   "source": [
    "# Filtering data based on values\n",
    "df[\"B\"] "
   ]
  },
  {
   "cell_type": "code",
   "execution_count": 22,
   "metadata": {},
   "outputs": [
    {
     "data": {
      "text/html": [
       "<div>\n",
       "<style scoped>\n",
       "    .dataframe tbody tr th:only-of-type {\n",
       "        vertical-align: middle;\n",
       "    }\n",
       "\n",
       "    .dataframe tbody tr th {\n",
       "        vertical-align: top;\n",
       "    }\n",
       "\n",
       "    .dataframe thead th {\n",
       "        text-align: right;\n",
       "    }\n",
       "</style>\n",
       "<table border=\"1\" class=\"dataframe\">\n",
       "  <thead>\n",
       "    <tr style=\"text-align: right;\">\n",
       "      <th></th>\n",
       "      <th>A</th>\n",
       "      <th>B</th>\n",
       "      <th>C</th>\n",
       "      <th>D</th>\n",
       "    </tr>\n",
       "  </thead>\n",
       "  <tbody>\n",
       "    <tr>\n",
       "      <th>2023-01-01</th>\n",
       "      <td>0.429840</td>\n",
       "      <td>-2.303945</td>\n",
       "      <td>0.515375</td>\n",
       "      <td>0.579725</td>\n",
       "    </tr>\n",
       "    <tr>\n",
       "      <th>2023-01-02</th>\n",
       "      <td>-0.344853</td>\n",
       "      <td>2.235077</td>\n",
       "      <td>0.975512</td>\n",
       "      <td>1.189974</td>\n",
       "    </tr>\n",
       "    <tr>\n",
       "      <th>2023-01-03</th>\n",
       "      <td>0.484602</td>\n",
       "      <td>-0.371021</td>\n",
       "      <td>0.273077</td>\n",
       "      <td>-0.722815</td>\n",
       "    </tr>\n",
       "    <tr>\n",
       "      <th>2023-01-04</th>\n",
       "      <td>0.613219</td>\n",
       "      <td>-0.630227</td>\n",
       "      <td>0.437497</td>\n",
       "      <td>0.927328</td>\n",
       "    </tr>\n",
       "    <tr>\n",
       "      <th>2023-01-05</th>\n",
       "      <td>-0.092483</td>\n",
       "      <td>0.195029</td>\n",
       "      <td>-0.934935</td>\n",
       "      <td>0.586360</td>\n",
       "    </tr>\n",
       "    <tr>\n",
       "      <th>2023-01-06</th>\n",
       "      <td>0.451228</td>\n",
       "      <td>0.435695</td>\n",
       "      <td>-0.003570</td>\n",
       "      <td>0.966600</td>\n",
       "    </tr>\n",
       "  </tbody>\n",
       "</table>\n",
       "</div>"
      ],
      "text/plain": [
       "                   A         B         C         D\n",
       "2023-01-01  0.429840 -2.303945  0.515375  0.579725\n",
       "2023-01-02 -0.344853  2.235077  0.975512  1.189974\n",
       "2023-01-03  0.484602 -0.371021  0.273077 -0.722815\n",
       "2023-01-04  0.613219 -0.630227  0.437497  0.927328\n",
       "2023-01-05 -0.092483  0.195029 -0.934935  0.586360\n",
       "2023-01-06  0.451228  0.435695 -0.003570  0.966600"
      ]
     },
     "execution_count": 22,
     "metadata": {},
     "output_type": "execute_result"
    }
   ],
   "source": [
    "# Row wise selection\n",
    "df[0:10]"
   ]
  },
  {
   "cell_type": "code",
   "execution_count": 25,
   "metadata": {},
   "outputs": [
    {
     "data": {
      "text/plain": [
       "A    0.429840\n",
       "B   -2.303945\n",
       "C    0.515375\n",
       "D    0.579725\n",
       "Name: 2023-01-01 00:00:00, dtype: float64"
      ]
     },
     "execution_count": 25,
     "metadata": {},
     "output_type": "execute_result"
    }
   ],
   "source": [
    "# Specific index\n",
    "df.loc[dates[0]]"
   ]
  },
  {
   "cell_type": "code",
   "execution_count": 28,
   "metadata": {},
   "outputs": [
    {
     "data": {
      "text/html": [
       "<div>\n",
       "<style scoped>\n",
       "    .dataframe tbody tr th:only-of-type {\n",
       "        vertical-align: middle;\n",
       "    }\n",
       "\n",
       "    .dataframe tbody tr th {\n",
       "        vertical-align: top;\n",
       "    }\n",
       "\n",
       "    .dataframe thead th {\n",
       "        text-align: right;\n",
       "    }\n",
       "</style>\n",
       "<table border=\"1\" class=\"dataframe\">\n",
       "  <thead>\n",
       "    <tr style=\"text-align: right;\">\n",
       "      <th></th>\n",
       "      <th>A</th>\n",
       "      <th>B</th>\n",
       "    </tr>\n",
       "  </thead>\n",
       "  <tbody>\n",
       "    <tr>\n",
       "      <th>2023-01-01</th>\n",
       "      <td>0.429840</td>\n",
       "      <td>-2.303945</td>\n",
       "    </tr>\n",
       "    <tr>\n",
       "      <th>2023-01-02</th>\n",
       "      <td>-0.344853</td>\n",
       "      <td>2.235077</td>\n",
       "    </tr>\n",
       "    <tr>\n",
       "      <th>2023-01-03</th>\n",
       "      <td>0.484602</td>\n",
       "      <td>-0.371021</td>\n",
       "    </tr>\n",
       "    <tr>\n",
       "      <th>2023-01-04</th>\n",
       "      <td>0.613219</td>\n",
       "      <td>-0.630227</td>\n",
       "    </tr>\n",
       "    <tr>\n",
       "      <th>2023-01-05</th>\n",
       "      <td>-0.092483</td>\n",
       "      <td>0.195029</td>\n",
       "    </tr>\n",
       "  </tbody>\n",
       "</table>\n",
       "</div>"
      ],
      "text/plain": [
       "                   A         B\n",
       "2023-01-01  0.429840 -2.303945\n",
       "2023-01-02 -0.344853  2.235077\n",
       "2023-01-03  0.484602 -0.371021\n",
       "2023-01-04  0.613219 -0.630227\n",
       "2023-01-05 -0.092483  0.195029"
      ]
     },
     "execution_count": 28,
     "metadata": {},
     "output_type": "execute_result"
    }
   ],
   "source": [
    "df.loc[:, ['A', 'B']]"
   ]
  },
  {
   "cell_type": "code",
   "execution_count": 30,
   "metadata": {},
   "outputs": [
    {
     "data": {
      "text/html": [
       "<div>\n",
       "<style scoped>\n",
       "    .dataframe tbody tr th:only-of-type {\n",
       "        vertical-align: middle;\n",
       "    }\n",
       "\n",
       "    .dataframe tbody tr th {\n",
       "        vertical-align: top;\n",
       "    }\n",
       "\n",
       "    .dataframe thead th {\n",
       "        text-align: right;\n",
       "    }\n",
       "</style>\n",
       "<table border=\"1\" class=\"dataframe\">\n",
       "  <thead>\n",
       "    <tr style=\"text-align: right;\">\n",
       "      <th></th>\n",
       "      <th>A</th>\n",
       "      <th>B</th>\n",
       "    </tr>\n",
       "  </thead>\n",
       "  <tbody>\n",
       "    <tr>\n",
       "      <th>2023-01-02</th>\n",
       "      <td>-0.344853</td>\n",
       "      <td>2.235077</td>\n",
       "    </tr>\n",
       "    <tr>\n",
       "      <th>2023-01-03</th>\n",
       "      <td>0.484602</td>\n",
       "      <td>-0.371021</td>\n",
       "    </tr>\n",
       "    <tr>\n",
       "      <th>2023-01-04</th>\n",
       "      <td>0.613219</td>\n",
       "      <td>-0.630227</td>\n",
       "    </tr>\n",
       "  </tbody>\n",
       "</table>\n",
       "</div>"
      ],
      "text/plain": [
       "                   A         B\n",
       "2023-01-02 -0.344853  2.235077\n",
       "2023-01-03  0.484602 -0.371021\n",
       "2023-01-04  0.613219 -0.630227"
      ]
     },
     "execution_count": 30,
     "metadata": {},
     "output_type": "execute_result"
    }
   ],
   "source": [
    "df.loc['20230102':'20230104', ['A', 'B']] # From 2023-01-02 to 2023-01-04 of A & B"
   ]
  },
  {
   "cell_type": "code",
   "execution_count": 31,
   "metadata": {},
   "outputs": [
    {
     "data": {
      "text/plain": [
       "A    0.613219\n",
       "B   -0.630227\n",
       "C    0.437497\n",
       "Name: 2023-01-04 00:00:00, dtype: float64"
      ]
     },
     "execution_count": 31,
     "metadata": {},
     "output_type": "execute_result"
    }
   ],
   "source": [
    "df.loc['20230104', ['A', 'B', 'C']] # Only 2023-01-04 of A B & C"
   ]
  },
  {
   "cell_type": "code",
   "execution_count": 33,
   "metadata": {},
   "outputs": [
    {
     "data": {
      "text/plain": [
       "0.6132193054559238"
      ]
     },
     "execution_count": 33,
     "metadata": {},
     "output_type": "execute_result"
    }
   ],
   "source": [
    "# Scalar values\n",
    "df.at[dates[3], \"A\"]"
   ]
  },
  {
   "cell_type": "code",
   "execution_count": 37,
   "metadata": {},
   "outputs": [
    {
     "data": {
      "text/plain": [
       "A    0.613219\n",
       "B   -0.630227\n",
       "C    0.437497\n",
       "D    0.927328\n",
       "Name: 2023-01-04 00:00:00, dtype: float64"
      ]
     },
     "execution_count": 37,
     "metadata": {},
     "output_type": "execute_result"
    }
   ],
   "source": [
    "df.iloc[3] # 3rd Index"
   ]
  },
  {
   "cell_type": "code",
   "execution_count": 38,
   "metadata": {},
   "outputs": [
    {
     "data": {
      "text/html": [
       "<div>\n",
       "<style scoped>\n",
       "    .dataframe tbody tr th:only-of-type {\n",
       "        vertical-align: middle;\n",
       "    }\n",
       "\n",
       "    .dataframe tbody tr th {\n",
       "        vertical-align: top;\n",
       "    }\n",
       "\n",
       "    .dataframe thead th {\n",
       "        text-align: right;\n",
       "    }\n",
       "</style>\n",
       "<table border=\"1\" class=\"dataframe\">\n",
       "  <thead>\n",
       "    <tr style=\"text-align: right;\">\n",
       "      <th></th>\n",
       "      <th>A</th>\n",
       "      <th>B</th>\n",
       "      <th>C</th>\n",
       "      <th>D</th>\n",
       "    </tr>\n",
       "  </thead>\n",
       "  <tbody>\n",
       "    <tr>\n",
       "      <th>2023-01-01</th>\n",
       "      <td>0.429840</td>\n",
       "      <td>-2.303945</td>\n",
       "      <td>0.515375</td>\n",
       "      <td>0.579725</td>\n",
       "    </tr>\n",
       "    <tr>\n",
       "      <th>2023-01-02</th>\n",
       "      <td>-0.344853</td>\n",
       "      <td>2.235077</td>\n",
       "      <td>0.975512</td>\n",
       "      <td>1.189974</td>\n",
       "    </tr>\n",
       "    <tr>\n",
       "      <th>2023-01-03</th>\n",
       "      <td>0.484602</td>\n",
       "      <td>-0.371021</td>\n",
       "      <td>0.273077</td>\n",
       "      <td>-0.722815</td>\n",
       "    </tr>\n",
       "    <tr>\n",
       "      <th>2023-01-04</th>\n",
       "      <td>0.613219</td>\n",
       "      <td>-0.630227</td>\n",
       "      <td>0.437497</td>\n",
       "      <td>0.927328</td>\n",
       "    </tr>\n",
       "    <tr>\n",
       "      <th>2023-01-05</th>\n",
       "      <td>-0.092483</td>\n",
       "      <td>0.195029</td>\n",
       "      <td>-0.934935</td>\n",
       "      <td>0.586360</td>\n",
       "    </tr>\n",
       "  </tbody>\n",
       "</table>\n",
       "</div>"
      ],
      "text/plain": [
       "                   A         B         C         D\n",
       "2023-01-01  0.429840 -2.303945  0.515375  0.579725\n",
       "2023-01-02 -0.344853  2.235077  0.975512  1.189974\n",
       "2023-01-03  0.484602 -0.371021  0.273077 -0.722815\n",
       "2023-01-04  0.613219 -0.630227  0.437497  0.927328\n",
       "2023-01-05 -0.092483  0.195029 -0.934935  0.586360"
      ]
     },
     "execution_count": 38,
     "metadata": {},
     "output_type": "execute_result"
    }
   ],
   "source": [
    "df.iloc[0:5]"
   ]
  },
  {
   "cell_type": "code",
   "execution_count": 39,
   "metadata": {},
   "outputs": [
    {
     "data": {
      "text/html": [
       "<div>\n",
       "<style scoped>\n",
       "    .dataframe tbody tr th:only-of-type {\n",
       "        vertical-align: middle;\n",
       "    }\n",
       "\n",
       "    .dataframe tbody tr th {\n",
       "        vertical-align: top;\n",
       "    }\n",
       "\n",
       "    .dataframe thead th {\n",
       "        text-align: right;\n",
       "    }\n",
       "</style>\n",
       "<table border=\"1\" class=\"dataframe\">\n",
       "  <thead>\n",
       "    <tr style=\"text-align: right;\">\n",
       "      <th></th>\n",
       "      <th>A</th>\n",
       "      <th>B</th>\n",
       "      <th>C</th>\n",
       "    </tr>\n",
       "  </thead>\n",
       "  <tbody>\n",
       "    <tr>\n",
       "      <th>2023-01-01</th>\n",
       "      <td>0.429840</td>\n",
       "      <td>-2.303945</td>\n",
       "      <td>0.515375</td>\n",
       "    </tr>\n",
       "    <tr>\n",
       "      <th>2023-01-02</th>\n",
       "      <td>-0.344853</td>\n",
       "      <td>2.235077</td>\n",
       "      <td>0.975512</td>\n",
       "    </tr>\n",
       "    <tr>\n",
       "      <th>2023-01-03</th>\n",
       "      <td>0.484602</td>\n",
       "      <td>-0.371021</td>\n",
       "      <td>0.273077</td>\n",
       "    </tr>\n",
       "    <tr>\n",
       "      <th>2023-01-04</th>\n",
       "      <td>0.613219</td>\n",
       "      <td>-0.630227</td>\n",
       "      <td>0.437497</td>\n",
       "    </tr>\n",
       "    <tr>\n",
       "      <th>2023-01-05</th>\n",
       "      <td>-0.092483</td>\n",
       "      <td>0.195029</td>\n",
       "      <td>-0.934935</td>\n",
       "    </tr>\n",
       "  </tbody>\n",
       "</table>\n",
       "</div>"
      ],
      "text/plain": [
       "                   A         B         C\n",
       "2023-01-01  0.429840 -2.303945  0.515375\n",
       "2023-01-02 -0.344853  2.235077  0.975512\n",
       "2023-01-03  0.484602 -0.371021  0.273077\n",
       "2023-01-04  0.613219 -0.630227  0.437497\n",
       "2023-01-05 -0.092483  0.195029 -0.934935"
      ]
     },
     "execution_count": 39,
     "metadata": {},
     "output_type": "execute_result"
    }
   ],
   "source": [
    "df.iloc[0:5, 0:3]"
   ]
  },
  {
   "cell_type": "code",
   "execution_count": 40,
   "metadata": {},
   "outputs": [
    {
     "data": {
      "text/html": [
       "<div>\n",
       "<style scoped>\n",
       "    .dataframe tbody tr th:only-of-type {\n",
       "        vertical-align: middle;\n",
       "    }\n",
       "\n",
       "    .dataframe tbody tr th {\n",
       "        vertical-align: top;\n",
       "    }\n",
       "\n",
       "    .dataframe thead th {\n",
       "        text-align: right;\n",
       "    }\n",
       "</style>\n",
       "<table border=\"1\" class=\"dataframe\">\n",
       "  <thead>\n",
       "    <tr style=\"text-align: right;\">\n",
       "      <th></th>\n",
       "      <th>A</th>\n",
       "      <th>B</th>\n",
       "      <th>C</th>\n",
       "      <th>D</th>\n",
       "    </tr>\n",
       "  </thead>\n",
       "  <tbody>\n",
       "    <tr>\n",
       "      <th>2023-01-01</th>\n",
       "      <td>0.429840</td>\n",
       "      <td>-2.303945</td>\n",
       "      <td>0.515375</td>\n",
       "      <td>0.579725</td>\n",
       "    </tr>\n",
       "    <tr>\n",
       "      <th>2023-01-02</th>\n",
       "      <td>-0.344853</td>\n",
       "      <td>2.235077</td>\n",
       "      <td>0.975512</td>\n",
       "      <td>1.189974</td>\n",
       "    </tr>\n",
       "    <tr>\n",
       "      <th>2023-01-03</th>\n",
       "      <td>0.484602</td>\n",
       "      <td>-0.371021</td>\n",
       "      <td>0.273077</td>\n",
       "      <td>-0.722815</td>\n",
       "    </tr>\n",
       "    <tr>\n",
       "      <th>2023-01-04</th>\n",
       "      <td>0.613219</td>\n",
       "      <td>-0.630227</td>\n",
       "      <td>0.437497</td>\n",
       "      <td>0.927328</td>\n",
       "    </tr>\n",
       "    <tr>\n",
       "      <th>2023-01-05</th>\n",
       "      <td>-0.092483</td>\n",
       "      <td>0.195029</td>\n",
       "      <td>-0.934935</td>\n",
       "      <td>0.586360</td>\n",
       "    </tr>\n",
       "  </tbody>\n",
       "</table>\n",
       "</div>"
      ],
      "text/plain": [
       "                   A         B         C         D\n",
       "2023-01-01  0.429840 -2.303945  0.515375  0.579725\n",
       "2023-01-02 -0.344853  2.235077  0.975512  1.189974\n",
       "2023-01-03  0.484602 -0.371021  0.273077 -0.722815\n",
       "2023-01-04  0.613219 -0.630227  0.437497  0.927328\n",
       "2023-01-05 -0.092483  0.195029 -0.934935  0.586360"
      ]
     },
     "execution_count": 40,
     "metadata": {},
     "output_type": "execute_result"
    }
   ],
   "source": [
    "df.iloc[0:5, :]"
   ]
  },
  {
   "cell_type": "code",
   "execution_count": 42,
   "metadata": {},
   "outputs": [
    {
     "data": {
      "text/html": [
       "<div>\n",
       "<style scoped>\n",
       "    .dataframe tbody tr th:only-of-type {\n",
       "        vertical-align: middle;\n",
       "    }\n",
       "\n",
       "    .dataframe tbody tr th {\n",
       "        vertical-align: top;\n",
       "    }\n",
       "\n",
       "    .dataframe thead th {\n",
       "        text-align: right;\n",
       "    }\n",
       "</style>\n",
       "<table border=\"1\" class=\"dataframe\">\n",
       "  <thead>\n",
       "    <tr style=\"text-align: right;\">\n",
       "      <th></th>\n",
       "      <th>A</th>\n",
       "      <th>B</th>\n",
       "    </tr>\n",
       "  </thead>\n",
       "  <tbody>\n",
       "    <tr>\n",
       "      <th>2023-01-01</th>\n",
       "      <td>0.429840</td>\n",
       "      <td>-2.303945</td>\n",
       "    </tr>\n",
       "    <tr>\n",
       "      <th>2023-01-02</th>\n",
       "      <td>-0.344853</td>\n",
       "      <td>2.235077</td>\n",
       "    </tr>\n",
       "    <tr>\n",
       "      <th>2023-01-03</th>\n",
       "      <td>0.484602</td>\n",
       "      <td>-0.371021</td>\n",
       "    </tr>\n",
       "    <tr>\n",
       "      <th>2023-01-04</th>\n",
       "      <td>0.613219</td>\n",
       "      <td>-0.630227</td>\n",
       "    </tr>\n",
       "    <tr>\n",
       "      <th>2023-01-05</th>\n",
       "      <td>-0.092483</td>\n",
       "      <td>0.195029</td>\n",
       "    </tr>\n",
       "    <tr>\n",
       "      <th>2023-01-06</th>\n",
       "      <td>0.451228</td>\n",
       "      <td>0.435695</td>\n",
       "    </tr>\n",
       "  </tbody>\n",
       "</table>\n",
       "</div>"
      ],
      "text/plain": [
       "                   A         B\n",
       "2023-01-01  0.429840 -2.303945\n",
       "2023-01-02 -0.344853  2.235077\n",
       "2023-01-03  0.484602 -0.371021\n",
       "2023-01-04  0.613219 -0.630227\n",
       "2023-01-05 -0.092483  0.195029\n",
       "2023-01-06  0.451228  0.435695"
      ]
     },
     "execution_count": 42,
     "metadata": {},
     "output_type": "execute_result"
    }
   ],
   "source": [
    "df.iloc[:, 0:2]"
   ]
  },
  {
   "cell_type": "markdown",
   "metadata": {},
   "source": [
    "### Boolean Operators"
   ]
  },
  {
   "cell_type": "code",
   "execution_count": 43,
   "metadata": {},
   "outputs": [
    {
     "data": {
      "text/html": [
       "<div>\n",
       "<style scoped>\n",
       "    .dataframe tbody tr th:only-of-type {\n",
       "        vertical-align: middle;\n",
       "    }\n",
       "\n",
       "    .dataframe tbody tr th {\n",
       "        vertical-align: top;\n",
       "    }\n",
       "\n",
       "    .dataframe thead th {\n",
       "        text-align: right;\n",
       "    }\n",
       "</style>\n",
       "<table border=\"1\" class=\"dataframe\">\n",
       "  <thead>\n",
       "    <tr style=\"text-align: right;\">\n",
       "      <th></th>\n",
       "      <th>A</th>\n",
       "      <th>B</th>\n",
       "      <th>C</th>\n",
       "      <th>D</th>\n",
       "    </tr>\n",
       "  </thead>\n",
       "  <tbody>\n",
       "    <tr>\n",
       "      <th>2023-01-01</th>\n",
       "      <td>0.429840</td>\n",
       "      <td>-2.303945</td>\n",
       "      <td>0.515375</td>\n",
       "      <td>0.579725</td>\n",
       "    </tr>\n",
       "    <tr>\n",
       "      <th>2023-01-03</th>\n",
       "      <td>0.484602</td>\n",
       "      <td>-0.371021</td>\n",
       "      <td>0.273077</td>\n",
       "      <td>-0.722815</td>\n",
       "    </tr>\n",
       "    <tr>\n",
       "      <th>2023-01-04</th>\n",
       "      <td>0.613219</td>\n",
       "      <td>-0.630227</td>\n",
       "      <td>0.437497</td>\n",
       "      <td>0.927328</td>\n",
       "    </tr>\n",
       "    <tr>\n",
       "      <th>2023-01-06</th>\n",
       "      <td>0.451228</td>\n",
       "      <td>0.435695</td>\n",
       "      <td>-0.003570</td>\n",
       "      <td>0.966600</td>\n",
       "    </tr>\n",
       "  </tbody>\n",
       "</table>\n",
       "</div>"
      ],
      "text/plain": [
       "                   A         B         C         D\n",
       "2023-01-01  0.429840 -2.303945  0.515375  0.579725\n",
       "2023-01-03  0.484602 -0.371021  0.273077 -0.722815\n",
       "2023-01-04  0.613219 -0.630227  0.437497  0.927328\n",
       "2023-01-06  0.451228  0.435695 -0.003570  0.966600"
      ]
     },
     "execution_count": 43,
     "metadata": {},
     "output_type": "execute_result"
    }
   ],
   "source": [
    "df[df['A'] > 0]"
   ]
  },
  {
   "cell_type": "code",
   "execution_count": 44,
   "metadata": {},
   "outputs": [
    {
     "data": {
      "text/html": [
       "<div>\n",
       "<style scoped>\n",
       "    .dataframe tbody tr th:only-of-type {\n",
       "        vertical-align: middle;\n",
       "    }\n",
       "\n",
       "    .dataframe tbody tr th {\n",
       "        vertical-align: top;\n",
       "    }\n",
       "\n",
       "    .dataframe thead th {\n",
       "        text-align: right;\n",
       "    }\n",
       "</style>\n",
       "<table border=\"1\" class=\"dataframe\">\n",
       "  <thead>\n",
       "    <tr style=\"text-align: right;\">\n",
       "      <th></th>\n",
       "      <th>A</th>\n",
       "      <th>B</th>\n",
       "      <th>C</th>\n",
       "      <th>D</th>\n",
       "    </tr>\n",
       "  </thead>\n",
       "  <tbody>\n",
       "    <tr>\n",
       "      <th>2023-01-02</th>\n",
       "      <td>-0.344853</td>\n",
       "      <td>2.235077</td>\n",
       "      <td>0.975512</td>\n",
       "      <td>1.189974</td>\n",
       "    </tr>\n",
       "  </tbody>\n",
       "</table>\n",
       "</div>"
      ],
      "text/plain": [
       "                   A         B         C         D\n",
       "2023-01-02 -0.344853  2.235077  0.975512  1.189974"
      ]
     },
     "execution_count": 44,
     "metadata": {},
     "output_type": "execute_result"
    }
   ],
   "source": [
    "df[df['B'] > 1.2]"
   ]
  },
  {
   "cell_type": "code",
   "execution_count": 46,
   "metadata": {},
   "outputs": [
    {
     "data": {
      "text/html": [
       "<div>\n",
       "<style scoped>\n",
       "    .dataframe tbody tr th:only-of-type {\n",
       "        vertical-align: middle;\n",
       "    }\n",
       "\n",
       "    .dataframe tbody tr th {\n",
       "        vertical-align: top;\n",
       "    }\n",
       "\n",
       "    .dataframe thead th {\n",
       "        text-align: right;\n",
       "    }\n",
       "</style>\n",
       "<table border=\"1\" class=\"dataframe\">\n",
       "  <thead>\n",
       "    <tr style=\"text-align: right;\">\n",
       "      <th></th>\n",
       "      <th>A</th>\n",
       "      <th>B</th>\n",
       "      <th>C</th>\n",
       "      <th>D</th>\n",
       "    </tr>\n",
       "  </thead>\n",
       "  <tbody>\n",
       "    <tr>\n",
       "      <th>2023-01-01</th>\n",
       "      <td>0.429840</td>\n",
       "      <td>NaN</td>\n",
       "      <td>0.515375</td>\n",
       "      <td>0.579725</td>\n",
       "    </tr>\n",
       "    <tr>\n",
       "      <th>2023-01-02</th>\n",
       "      <td>NaN</td>\n",
       "      <td>2.235077</td>\n",
       "      <td>0.975512</td>\n",
       "      <td>1.189974</td>\n",
       "    </tr>\n",
       "    <tr>\n",
       "      <th>2023-01-03</th>\n",
       "      <td>0.484602</td>\n",
       "      <td>NaN</td>\n",
       "      <td>0.273077</td>\n",
       "      <td>NaN</td>\n",
       "    </tr>\n",
       "    <tr>\n",
       "      <th>2023-01-04</th>\n",
       "      <td>0.613219</td>\n",
       "      <td>NaN</td>\n",
       "      <td>0.437497</td>\n",
       "      <td>0.927328</td>\n",
       "    </tr>\n",
       "    <tr>\n",
       "      <th>2023-01-05</th>\n",
       "      <td>NaN</td>\n",
       "      <td>0.195029</td>\n",
       "      <td>NaN</td>\n",
       "      <td>0.586360</td>\n",
       "    </tr>\n",
       "    <tr>\n",
       "      <th>2023-01-06</th>\n",
       "      <td>0.451228</td>\n",
       "      <td>0.435695</td>\n",
       "      <td>NaN</td>\n",
       "      <td>0.966600</td>\n",
       "    </tr>\n",
       "  </tbody>\n",
       "</table>\n",
       "</div>"
      ],
      "text/plain": [
       "                   A         B         C         D\n",
       "2023-01-01  0.429840       NaN  0.515375  0.579725\n",
       "2023-01-02       NaN  2.235077  0.975512  1.189974\n",
       "2023-01-03  0.484602       NaN  0.273077       NaN\n",
       "2023-01-04  0.613219       NaN  0.437497  0.927328\n",
       "2023-01-05       NaN  0.195029       NaN  0.586360\n",
       "2023-01-06  0.451228  0.435695       NaN  0.966600"
      ]
     },
     "execution_count": 46,
     "metadata": {},
     "output_type": "execute_result"
    }
   ],
   "source": [
    "df[df > 0]"
   ]
  },
  {
   "cell_type": "code",
   "execution_count": 45,
   "metadata": {},
   "outputs": [
    {
     "data": {
      "text/html": [
       "<div>\n",
       "<style scoped>\n",
       "    .dataframe tbody tr th:only-of-type {\n",
       "        vertical-align: middle;\n",
       "    }\n",
       "\n",
       "    .dataframe tbody tr th {\n",
       "        vertical-align: top;\n",
       "    }\n",
       "\n",
       "    .dataframe thead th {\n",
       "        text-align: right;\n",
       "    }\n",
       "</style>\n",
       "<table border=\"1\" class=\"dataframe\">\n",
       "  <thead>\n",
       "    <tr style=\"text-align: right;\">\n",
       "      <th></th>\n",
       "      <th>A</th>\n",
       "      <th>B</th>\n",
       "      <th>C</th>\n",
       "      <th>D</th>\n",
       "    </tr>\n",
       "  </thead>\n",
       "  <tbody>\n",
       "    <tr>\n",
       "      <th>2023-01-01</th>\n",
       "      <td>0.429840</td>\n",
       "      <td>NaN</td>\n",
       "      <td>NaN</td>\n",
       "      <td>NaN</td>\n",
       "    </tr>\n",
       "    <tr>\n",
       "      <th>2023-01-02</th>\n",
       "      <td>NaN</td>\n",
       "      <td>2.235077</td>\n",
       "      <td>NaN</td>\n",
       "      <td>NaN</td>\n",
       "    </tr>\n",
       "    <tr>\n",
       "      <th>2023-01-03</th>\n",
       "      <td>0.484602</td>\n",
       "      <td>NaN</td>\n",
       "      <td>NaN</td>\n",
       "      <td>NaN</td>\n",
       "    </tr>\n",
       "    <tr>\n",
       "      <th>2023-01-04</th>\n",
       "      <td>0.613219</td>\n",
       "      <td>NaN</td>\n",
       "      <td>NaN</td>\n",
       "      <td>NaN</td>\n",
       "    </tr>\n",
       "    <tr>\n",
       "      <th>2023-01-05</th>\n",
       "      <td>NaN</td>\n",
       "      <td>0.195029</td>\n",
       "      <td>NaN</td>\n",
       "      <td>NaN</td>\n",
       "    </tr>\n",
       "    <tr>\n",
       "      <th>2023-01-06</th>\n",
       "      <td>0.451228</td>\n",
       "      <td>0.435695</td>\n",
       "      <td>NaN</td>\n",
       "      <td>NaN</td>\n",
       "    </tr>\n",
       "  </tbody>\n",
       "</table>\n",
       "</div>"
      ],
      "text/plain": [
       "                   A         B   C   D\n",
       "2023-01-01  0.429840       NaN NaN NaN\n",
       "2023-01-02       NaN  2.235077 NaN NaN\n",
       "2023-01-03  0.484602       NaN NaN NaN\n",
       "2023-01-04  0.613219       NaN NaN NaN\n",
       "2023-01-05       NaN  0.195029 NaN NaN\n",
       "2023-01-06  0.451228  0.435695 NaN NaN"
      ]
     },
     "execution_count": 45,
     "metadata": {},
     "output_type": "execute_result"
    }
   ],
   "source": [
    "df[df[['A', 'B']] > 0] # Multiple cols we use 2D [[]]"
   ]
  },
  {
   "cell_type": "code",
   "execution_count": 47,
   "metadata": {},
   "outputs": [],
   "source": [
    "df2 = df.copy()"
   ]
  },
  {
   "cell_type": "code",
   "execution_count": 51,
   "metadata": {},
   "outputs": [
    {
     "data": {
      "text/html": [
       "<div>\n",
       "<style scoped>\n",
       "    .dataframe tbody tr th:only-of-type {\n",
       "        vertical-align: middle;\n",
       "    }\n",
       "\n",
       "    .dataframe tbody tr th {\n",
       "        vertical-align: top;\n",
       "    }\n",
       "\n",
       "    .dataframe thead th {\n",
       "        text-align: right;\n",
       "    }\n",
       "</style>\n",
       "<table border=\"1\" class=\"dataframe\">\n",
       "  <thead>\n",
       "    <tr style=\"text-align: right;\">\n",
       "      <th></th>\n",
       "      <th>A</th>\n",
       "      <th>B</th>\n",
       "      <th>C</th>\n",
       "      <th>D</th>\n",
       "      <th>MyColumn</th>\n",
       "      <th>E</th>\n",
       "    </tr>\n",
       "  </thead>\n",
       "  <tbody>\n",
       "    <tr>\n",
       "      <th>2023-01-01</th>\n",
       "      <td>0.429840</td>\n",
       "      <td>-2.303945</td>\n",
       "      <td>0.515375</td>\n",
       "      <td>0.579725</td>\n",
       "      <td>one</td>\n",
       "      <td>one</td>\n",
       "    </tr>\n",
       "    <tr>\n",
       "      <th>2023-01-02</th>\n",
       "      <td>-0.344853</td>\n",
       "      <td>2.235077</td>\n",
       "      <td>0.975512</td>\n",
       "      <td>1.189974</td>\n",
       "      <td>two</td>\n",
       "      <td>two</td>\n",
       "    </tr>\n",
       "    <tr>\n",
       "      <th>2023-01-03</th>\n",
       "      <td>0.484602</td>\n",
       "      <td>-0.371021</td>\n",
       "      <td>0.273077</td>\n",
       "      <td>-0.722815</td>\n",
       "      <td>three</td>\n",
       "      <td>three</td>\n",
       "    </tr>\n",
       "    <tr>\n",
       "      <th>2023-01-04</th>\n",
       "      <td>0.613219</td>\n",
       "      <td>-0.630227</td>\n",
       "      <td>0.437497</td>\n",
       "      <td>0.927328</td>\n",
       "      <td>four</td>\n",
       "      <td>four</td>\n",
       "    </tr>\n",
       "    <tr>\n",
       "      <th>2023-01-05</th>\n",
       "      <td>-0.092483</td>\n",
       "      <td>0.195029</td>\n",
       "      <td>-0.934935</td>\n",
       "      <td>0.586360</td>\n",
       "      <td>five</td>\n",
       "      <td>five</td>\n",
       "    </tr>\n",
       "    <tr>\n",
       "      <th>2023-01-06</th>\n",
       "      <td>0.451228</td>\n",
       "      <td>0.435695</td>\n",
       "      <td>-0.003570</td>\n",
       "      <td>0.966600</td>\n",
       "      <td>six</td>\n",
       "      <td>six</td>\n",
       "    </tr>\n",
       "  </tbody>\n",
       "</table>\n",
       "</div>"
      ],
      "text/plain": [
       "                   A         B         C         D MyColumn      E\n",
       "2023-01-01  0.429840 -2.303945  0.515375  0.579725      one    one\n",
       "2023-01-02 -0.344853  2.235077  0.975512  1.189974      two    two\n",
       "2023-01-03  0.484602 -0.371021  0.273077 -0.722815    three  three\n",
       "2023-01-04  0.613219 -0.630227  0.437497  0.927328     four   four\n",
       "2023-01-05 -0.092483  0.195029 -0.934935  0.586360     five   five\n",
       "2023-01-06  0.451228  0.435695 -0.003570  0.966600      six    six"
      ]
     },
     "execution_count": 51,
     "metadata": {},
     "output_type": "execute_result"
    }
   ],
   "source": [
    "df2['E'] = ['one', 'two', 'three', 'four', 'five', 'six']\n",
    "df2"
   ]
  },
  {
   "cell_type": "code",
   "execution_count": 68,
   "metadata": {},
   "outputs": [],
   "source": [
    "df2 = df2.drop(columns='MyColumn') # Deleting or droping a column"
   ]
  },
  {
   "cell_type": "code",
   "execution_count": 69,
   "metadata": {},
   "outputs": [
    {
     "data": {
      "text/html": [
       "<div>\n",
       "<style scoped>\n",
       "    .dataframe tbody tr th:only-of-type {\n",
       "        vertical-align: middle;\n",
       "    }\n",
       "\n",
       "    .dataframe tbody tr th {\n",
       "        vertical-align: top;\n",
       "    }\n",
       "\n",
       "    .dataframe thead th {\n",
       "        text-align: right;\n",
       "    }\n",
       "</style>\n",
       "<table border=\"1\" class=\"dataframe\">\n",
       "  <thead>\n",
       "    <tr style=\"text-align: right;\">\n",
       "      <th></th>\n",
       "      <th>A</th>\n",
       "      <th>B</th>\n",
       "      <th>C</th>\n",
       "      <th>D</th>\n",
       "      <th>E</th>\n",
       "    </tr>\n",
       "  </thead>\n",
       "  <tbody>\n",
       "    <tr>\n",
       "      <th>2023-01-01</th>\n",
       "      <td>0.429840</td>\n",
       "      <td>-2.303945</td>\n",
       "      <td>0.515375</td>\n",
       "      <td>0.579725</td>\n",
       "      <td>one</td>\n",
       "    </tr>\n",
       "    <tr>\n",
       "      <th>2023-01-02</th>\n",
       "      <td>-0.344853</td>\n",
       "      <td>2.235077</td>\n",
       "      <td>0.975512</td>\n",
       "      <td>1.189974</td>\n",
       "      <td>two</td>\n",
       "    </tr>\n",
       "    <tr>\n",
       "      <th>2023-01-03</th>\n",
       "      <td>0.484602</td>\n",
       "      <td>-0.371021</td>\n",
       "      <td>0.273077</td>\n",
       "      <td>-0.722815</td>\n",
       "      <td>three</td>\n",
       "    </tr>\n",
       "    <tr>\n",
       "      <th>2023-01-04</th>\n",
       "      <td>0.613219</td>\n",
       "      <td>-0.630227</td>\n",
       "      <td>0.437497</td>\n",
       "      <td>0.927328</td>\n",
       "      <td>four</td>\n",
       "    </tr>\n",
       "    <tr>\n",
       "      <th>2023-01-05</th>\n",
       "      <td>-0.092483</td>\n",
       "      <td>0.195029</td>\n",
       "      <td>-0.934935</td>\n",
       "      <td>0.586360</td>\n",
       "      <td>five</td>\n",
       "    </tr>\n",
       "    <tr>\n",
       "      <th>2023-01-06</th>\n",
       "      <td>0.451228</td>\n",
       "      <td>0.435695</td>\n",
       "      <td>-0.003570</td>\n",
       "      <td>0.966600</td>\n",
       "      <td>six</td>\n",
       "    </tr>\n",
       "  </tbody>\n",
       "</table>\n",
       "</div>"
      ],
      "text/plain": [
       "                   A         B         C         D      E\n",
       "2023-01-01  0.429840 -2.303945  0.515375  0.579725    one\n",
       "2023-01-02 -0.344853  2.235077  0.975512  1.189974    two\n",
       "2023-01-03  0.484602 -0.371021  0.273077 -0.722815  three\n",
       "2023-01-04  0.613219 -0.630227  0.437497  0.927328   four\n",
       "2023-01-05 -0.092483  0.195029 -0.934935  0.586360   five\n",
       "2023-01-06  0.451228  0.435695 -0.003570  0.966600    six"
      ]
     },
     "execution_count": 69,
     "metadata": {},
     "output_type": "execute_result"
    }
   ],
   "source": [
    "df2"
   ]
  },
  {
   "cell_type": "code",
   "execution_count": 71,
   "metadata": {},
   "outputs": [],
   "source": [
    "df2['new'] = [1.1, 1.2, 1.3, 1.4, 1.5, 1.6]"
   ]
  },
  {
   "cell_type": "code",
   "execution_count": 72,
   "metadata": {},
   "outputs": [
    {
     "data": {
      "text/html": [
       "<div>\n",
       "<style scoped>\n",
       "    .dataframe tbody tr th:only-of-type {\n",
       "        vertical-align: middle;\n",
       "    }\n",
       "\n",
       "    .dataframe tbody tr th {\n",
       "        vertical-align: top;\n",
       "    }\n",
       "\n",
       "    .dataframe thead th {\n",
       "        text-align: right;\n",
       "    }\n",
       "</style>\n",
       "<table border=\"1\" class=\"dataframe\">\n",
       "  <thead>\n",
       "    <tr style=\"text-align: right;\">\n",
       "      <th></th>\n",
       "      <th>A</th>\n",
       "      <th>B</th>\n",
       "      <th>C</th>\n",
       "      <th>D</th>\n",
       "      <th>E</th>\n",
       "      <th>new</th>\n",
       "    </tr>\n",
       "  </thead>\n",
       "  <tbody>\n",
       "    <tr>\n",
       "      <th>2023-01-01</th>\n",
       "      <td>0.429840</td>\n",
       "      <td>-2.303945</td>\n",
       "      <td>0.515375</td>\n",
       "      <td>0.579725</td>\n",
       "      <td>one</td>\n",
       "      <td>1.1</td>\n",
       "    </tr>\n",
       "    <tr>\n",
       "      <th>2023-01-02</th>\n",
       "      <td>-0.344853</td>\n",
       "      <td>2.235077</td>\n",
       "      <td>0.975512</td>\n",
       "      <td>1.189974</td>\n",
       "      <td>two</td>\n",
       "      <td>1.2</td>\n",
       "    </tr>\n",
       "    <tr>\n",
       "      <th>2023-01-03</th>\n",
       "      <td>0.484602</td>\n",
       "      <td>-0.371021</td>\n",
       "      <td>0.273077</td>\n",
       "      <td>-0.722815</td>\n",
       "      <td>three</td>\n",
       "      <td>1.3</td>\n",
       "    </tr>\n",
       "    <tr>\n",
       "      <th>2023-01-04</th>\n",
       "      <td>0.613219</td>\n",
       "      <td>-0.630227</td>\n",
       "      <td>0.437497</td>\n",
       "      <td>0.927328</td>\n",
       "      <td>four</td>\n",
       "      <td>1.4</td>\n",
       "    </tr>\n",
       "    <tr>\n",
       "      <th>2023-01-05</th>\n",
       "      <td>-0.092483</td>\n",
       "      <td>0.195029</td>\n",
       "      <td>-0.934935</td>\n",
       "      <td>0.586360</td>\n",
       "      <td>five</td>\n",
       "      <td>1.5</td>\n",
       "    </tr>\n",
       "    <tr>\n",
       "      <th>2023-01-06</th>\n",
       "      <td>0.451228</td>\n",
       "      <td>0.435695</td>\n",
       "      <td>-0.003570</td>\n",
       "      <td>0.966600</td>\n",
       "      <td>six</td>\n",
       "      <td>1.6</td>\n",
       "    </tr>\n",
       "  </tbody>\n",
       "</table>\n",
       "</div>"
      ],
      "text/plain": [
       "                   A         B         C         D      E  new\n",
       "2023-01-01  0.429840 -2.303945  0.515375  0.579725    one  1.1\n",
       "2023-01-02 -0.344853  2.235077  0.975512  1.189974    two  1.2\n",
       "2023-01-03  0.484602 -0.371021  0.273077 -0.722815  three  1.3\n",
       "2023-01-04  0.613219 -0.630227  0.437497  0.927328   four  1.4\n",
       "2023-01-05 -0.092483  0.195029 -0.934935  0.586360   five  1.5\n",
       "2023-01-06  0.451228  0.435695 -0.003570  0.966600    six  1.6"
      ]
     },
     "execution_count": 72,
     "metadata": {},
     "output_type": "execute_result"
    }
   ],
   "source": [
    "df2"
   ]
  },
  {
   "cell_type": "code",
   "execution_count": 82,
   "metadata": {},
   "outputs": [],
   "source": [
    "abcd = df2['A'] + df2['B'] + df2['C'] + df2['D']"
   ]
  },
  {
   "cell_type": "code",
   "execution_count": 83,
   "metadata": {},
   "outputs": [],
   "source": [
    "# Assignment 1 to add a new column named 'mean' to set the average of all A, B, C & D\n",
    "df2['mean'] = abcd / 4"
   ]
  },
  {
   "cell_type": "code",
   "execution_count": 84,
   "metadata": {},
   "outputs": [
    {
     "data": {
      "text/html": [
       "<div>\n",
       "<style scoped>\n",
       "    .dataframe tbody tr th:only-of-type {\n",
       "        vertical-align: middle;\n",
       "    }\n",
       "\n",
       "    .dataframe tbody tr th {\n",
       "        vertical-align: top;\n",
       "    }\n",
       "\n",
       "    .dataframe thead th {\n",
       "        text-align: right;\n",
       "    }\n",
       "</style>\n",
       "<table border=\"1\" class=\"dataframe\">\n",
       "  <thead>\n",
       "    <tr style=\"text-align: right;\">\n",
       "      <th></th>\n",
       "      <th>A</th>\n",
       "      <th>B</th>\n",
       "      <th>C</th>\n",
       "      <th>D</th>\n",
       "      <th>E</th>\n",
       "      <th>new</th>\n",
       "      <th>mean</th>\n",
       "    </tr>\n",
       "  </thead>\n",
       "  <tbody>\n",
       "    <tr>\n",
       "      <th>2023-01-01</th>\n",
       "      <td>0.429840</td>\n",
       "      <td>-2.303945</td>\n",
       "      <td>0.515375</td>\n",
       "      <td>0.579725</td>\n",
       "      <td>one</td>\n",
       "      <td>1.1</td>\n",
       "      <td>-0.194751</td>\n",
       "    </tr>\n",
       "    <tr>\n",
       "      <th>2023-01-02</th>\n",
       "      <td>-0.344853</td>\n",
       "      <td>2.235077</td>\n",
       "      <td>0.975512</td>\n",
       "      <td>1.189974</td>\n",
       "      <td>two</td>\n",
       "      <td>1.2</td>\n",
       "      <td>1.013927</td>\n",
       "    </tr>\n",
       "    <tr>\n",
       "      <th>2023-01-03</th>\n",
       "      <td>0.484602</td>\n",
       "      <td>-0.371021</td>\n",
       "      <td>0.273077</td>\n",
       "      <td>-0.722815</td>\n",
       "      <td>three</td>\n",
       "      <td>1.3</td>\n",
       "      <td>-0.084039</td>\n",
       "    </tr>\n",
       "    <tr>\n",
       "      <th>2023-01-04</th>\n",
       "      <td>0.613219</td>\n",
       "      <td>-0.630227</td>\n",
       "      <td>0.437497</td>\n",
       "      <td>0.927328</td>\n",
       "      <td>four</td>\n",
       "      <td>1.4</td>\n",
       "      <td>0.336954</td>\n",
       "    </tr>\n",
       "    <tr>\n",
       "      <th>2023-01-05</th>\n",
       "      <td>-0.092483</td>\n",
       "      <td>0.195029</td>\n",
       "      <td>-0.934935</td>\n",
       "      <td>0.586360</td>\n",
       "      <td>five</td>\n",
       "      <td>1.5</td>\n",
       "      <td>-0.061507</td>\n",
       "    </tr>\n",
       "    <tr>\n",
       "      <th>2023-01-06</th>\n",
       "      <td>0.451228</td>\n",
       "      <td>0.435695</td>\n",
       "      <td>-0.003570</td>\n",
       "      <td>0.966600</td>\n",
       "      <td>six</td>\n",
       "      <td>1.6</td>\n",
       "      <td>0.462488</td>\n",
       "    </tr>\n",
       "  </tbody>\n",
       "</table>\n",
       "</div>"
      ],
      "text/plain": [
       "                   A         B         C         D      E  new      mean\n",
       "2023-01-01  0.429840 -2.303945  0.515375  0.579725    one  1.1 -0.194751\n",
       "2023-01-02 -0.344853  2.235077  0.975512  1.189974    two  1.2  1.013927\n",
       "2023-01-03  0.484602 -0.371021  0.273077 -0.722815  three  1.3 -0.084039\n",
       "2023-01-04  0.613219 -0.630227  0.437497  0.927328   four  1.4  0.336954\n",
       "2023-01-05 -0.092483  0.195029 -0.934935  0.586360   five  1.5 -0.061507\n",
       "2023-01-06  0.451228  0.435695 -0.003570  0.966600    six  1.6  0.462488"
      ]
     },
     "execution_count": 84,
     "metadata": {},
     "output_type": "execute_result"
    }
   ],
   "source": [
    "df2"
   ]
  },
  {
   "cell_type": "code",
   "execution_count": 90,
   "metadata": {},
   "outputs": [
    {
     "data": {
      "text/html": [
       "<div>\n",
       "<style scoped>\n",
       "    .dataframe tbody tr th:only-of-type {\n",
       "        vertical-align: middle;\n",
       "    }\n",
       "\n",
       "    .dataframe tbody tr th {\n",
       "        vertical-align: top;\n",
       "    }\n",
       "\n",
       "    .dataframe thead th {\n",
       "        text-align: right;\n",
       "    }\n",
       "</style>\n",
       "<table border=\"1\" class=\"dataframe\">\n",
       "  <thead>\n",
       "    <tr style=\"text-align: right;\">\n",
       "      <th></th>\n",
       "      <th>A</th>\n",
       "      <th>B</th>\n",
       "    </tr>\n",
       "  </thead>\n",
       "  <tbody>\n",
       "    <tr>\n",
       "      <th>2023-01-01</th>\n",
       "      <td>0.429840</td>\n",
       "      <td>-2.303945</td>\n",
       "    </tr>\n",
       "    <tr>\n",
       "      <th>2023-01-02</th>\n",
       "      <td>-0.344853</td>\n",
       "      <td>2.235077</td>\n",
       "    </tr>\n",
       "    <tr>\n",
       "      <th>2023-01-03</th>\n",
       "      <td>0.484602</td>\n",
       "      <td>-0.371021</td>\n",
       "    </tr>\n",
       "    <tr>\n",
       "      <th>2023-01-04</th>\n",
       "      <td>0.613219</td>\n",
       "      <td>-0.630227</td>\n",
       "    </tr>\n",
       "    <tr>\n",
       "      <th>2023-01-05</th>\n",
       "      <td>-0.092483</td>\n",
       "      <td>0.195029</td>\n",
       "    </tr>\n",
       "    <tr>\n",
       "      <th>2023-01-06</th>\n",
       "      <td>0.451228</td>\n",
       "      <td>0.435695</td>\n",
       "    </tr>\n",
       "  </tbody>\n",
       "</table>\n",
       "</div>"
      ],
      "text/plain": [
       "                   A         B\n",
       "2023-01-01  0.429840 -2.303945\n",
       "2023-01-02 -0.344853  2.235077\n",
       "2023-01-03  0.484602 -0.371021\n",
       "2023-01-04  0.613219 -0.630227\n",
       "2023-01-05 -0.092483  0.195029\n",
       "2023-01-06  0.451228  0.435695"
      ]
     },
     "execution_count": 90,
     "metadata": {},
     "output_type": "execute_result"
    }
   ],
   "source": [
    "df2 = df2.iloc[:, 0:2]\n",
    "df2"
   ]
  },
  {
   "cell_type": "code",
   "execution_count": null,
   "metadata": {},
   "outputs": [],
   "source": []
  }
 ],
 "metadata": {
  "kernelspec": {
   "display_name": "Python 3",
   "language": "python",
   "name": "python3"
  },
  "language_info": {
   "codemirror_mode": {
    "name": "ipython",
    "version": 3
   },
   "file_extension": ".py",
   "mimetype": "text/x-python",
   "name": "python",
   "nbconvert_exporter": "python",
   "pygments_lexer": "ipython3",
   "version": "3.10.7"
  },
  "orig_nbformat": 4
 },
 "nbformat": 4,
 "nbformat_minor": 2
}
