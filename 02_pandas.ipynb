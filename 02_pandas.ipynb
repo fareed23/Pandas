{
 "cells": [
  {
   "cell_type": "markdown",
   "metadata": {},
   "source": [
    "# Pandas - Python Library"
   ]
  },
  {
   "cell_type": "code",
   "execution_count": 1,
   "metadata": {},
   "outputs": [],
   "source": [
    "# Installing libraries\n",
    "# pip3 install pandas\n",
    "# pip3 install numpy"
   ]
  },
  {
   "cell_type": "markdown",
   "metadata": {},
   "source": [
    "- ### Importing libraries"
   ]
  },
  {
   "cell_type": "code",
   "execution_count": 2,
   "metadata": {},
   "outputs": [],
   "source": [
    "import pandas as pd\n",
    "import numpy as np"
   ]
  },
  {
   "cell_type": "code",
   "execution_count": 3,
   "metadata": {},
   "outputs": [
    {
     "data": {
      "text/plain": [
       "0    1.0\n",
       "1    3.0\n",
       "2    NaN\n",
       "3    5.0\n",
       "4    7.0\n",
       "5    8.0\n",
       "6    9.0\n",
       "dtype: float64"
      ]
     },
     "execution_count": 3,
     "metadata": {},
     "output_type": "execute_result"
    }
   ],
   "source": [
    "# Objects creation\n",
    "s = pd.Series([1, 3, np.nan ,5, 7, 8, 9]) # Series -> Column\n",
    "s"
   ]
  },
  {
   "cell_type": "code",
   "execution_count": 4,
   "metadata": {},
   "outputs": [
    {
     "data": {
      "text/plain": [
       "DatetimeIndex(['2023-01-01', '2023-01-02', '2023-01-03', '2023-01-04',\n",
       "               '2023-01-05', '2023-01-06'],\n",
       "              dtype='datetime64[ns]', freq='D')"
      ]
     },
     "execution_count": 4,
     "metadata": {},
     "output_type": "execute_result"
    }
   ],
   "source": [
    "dates = pd.date_range('20230101', periods=6)\n",
    "dates"
   ]
  },
  {
   "cell_type": "code",
   "execution_count": 5,
   "metadata": {},
   "outputs": [
    {
     "data": {
      "text/html": [
       "<div>\n",
       "<style scoped>\n",
       "    .dataframe tbody tr th:only-of-type {\n",
       "        vertical-align: middle;\n",
       "    }\n",
       "\n",
       "    .dataframe tbody tr th {\n",
       "        vertical-align: top;\n",
       "    }\n",
       "\n",
       "    .dataframe thead th {\n",
       "        text-align: right;\n",
       "    }\n",
       "</style>\n",
       "<table border=\"1\" class=\"dataframe\">\n",
       "  <thead>\n",
       "    <tr style=\"text-align: right;\">\n",
       "      <th></th>\n",
       "      <th>A</th>\n",
       "      <th>B</th>\n",
       "      <th>C</th>\n",
       "      <th>D</th>\n",
       "    </tr>\n",
       "  </thead>\n",
       "  <tbody>\n",
       "    <tr>\n",
       "      <th>2023-01-01</th>\n",
       "      <td>-0.687125</td>\n",
       "      <td>-0.289322</td>\n",
       "      <td>0.136143</td>\n",
       "      <td>1.293307</td>\n",
       "    </tr>\n",
       "    <tr>\n",
       "      <th>2023-01-02</th>\n",
       "      <td>0.681133</td>\n",
       "      <td>-0.517116</td>\n",
       "      <td>0.851075</td>\n",
       "      <td>0.599484</td>\n",
       "    </tr>\n",
       "    <tr>\n",
       "      <th>2023-01-03</th>\n",
       "      <td>-0.633040</td>\n",
       "      <td>-0.762864</td>\n",
       "      <td>0.592309</td>\n",
       "      <td>-1.152378</td>\n",
       "    </tr>\n",
       "    <tr>\n",
       "      <th>2023-01-04</th>\n",
       "      <td>-0.830034</td>\n",
       "      <td>0.326773</td>\n",
       "      <td>-0.270945</td>\n",
       "      <td>-1.001267</td>\n",
       "    </tr>\n",
       "    <tr>\n",
       "      <th>2023-01-05</th>\n",
       "      <td>0.145065</td>\n",
       "      <td>0.967164</td>\n",
       "      <td>0.782808</td>\n",
       "      <td>0.910107</td>\n",
       "    </tr>\n",
       "    <tr>\n",
       "      <th>2023-01-06</th>\n",
       "      <td>0.919067</td>\n",
       "      <td>-1.449038</td>\n",
       "      <td>0.775989</td>\n",
       "      <td>-1.062123</td>\n",
       "    </tr>\n",
       "  </tbody>\n",
       "</table>\n",
       "</div>"
      ],
      "text/plain": [
       "                   A         B         C         D\n",
       "2023-01-01 -0.687125 -0.289322  0.136143  1.293307\n",
       "2023-01-02  0.681133 -0.517116  0.851075  0.599484\n",
       "2023-01-03 -0.633040 -0.762864  0.592309 -1.152378\n",
       "2023-01-04 -0.830034  0.326773 -0.270945 -1.001267\n",
       "2023-01-05  0.145065  0.967164  0.782808  0.910107\n",
       "2023-01-06  0.919067 -1.449038  0.775989 -1.062123"
      ]
     },
     "execution_count": 5,
     "metadata": {},
     "output_type": "execute_result"
    }
   ],
   "source": [
    "df = pd.DataFrame(np.random.randn(6, 4), index=dates, columns=list(\"ABCD\"))\n",
    "df"
   ]
  },
  {
   "cell_type": "code",
   "execution_count": 6,
   "metadata": {},
   "outputs": [
    {
     "data": {
      "text/html": [
       "<div>\n",
       "<style scoped>\n",
       "    .dataframe tbody tr th:only-of-type {\n",
       "        vertical-align: middle;\n",
       "    }\n",
       "\n",
       "    .dataframe tbody tr th {\n",
       "        vertical-align: top;\n",
       "    }\n",
       "\n",
       "    .dataframe thead th {\n",
       "        text-align: right;\n",
       "    }\n",
       "</style>\n",
       "<table border=\"1\" class=\"dataframe\">\n",
       "  <thead>\n",
       "    <tr style=\"text-align: right;\">\n",
       "      <th></th>\n",
       "      <th>A</th>\n",
       "      <th>B</th>\n",
       "      <th>C</th>\n",
       "      <th>D</th>\n",
       "      <th>E</th>\n",
       "      <th>F</th>\n",
       "    </tr>\n",
       "  </thead>\n",
       "  <tbody>\n",
       "    <tr>\n",
       "      <th>0</th>\n",
       "      <td>1.0</td>\n",
       "      <td>2023-07-23</td>\n",
       "      <td>1.0</td>\n",
       "      <td>3</td>\n",
       "      <td>girl</td>\n",
       "      <td>female</td>\n",
       "    </tr>\n",
       "    <tr>\n",
       "      <th>1</th>\n",
       "      <td>1.0</td>\n",
       "      <td>2023-07-23</td>\n",
       "      <td>1.0</td>\n",
       "      <td>3</td>\n",
       "      <td>woman</td>\n",
       "      <td>female</td>\n",
       "    </tr>\n",
       "    <tr>\n",
       "      <th>2</th>\n",
       "      <td>1.0</td>\n",
       "      <td>2023-07-23</td>\n",
       "      <td>1.0</td>\n",
       "      <td>3</td>\n",
       "      <td>girl</td>\n",
       "      <td>female</td>\n",
       "    </tr>\n",
       "    <tr>\n",
       "      <th>3</th>\n",
       "      <td>1.0</td>\n",
       "      <td>2023-07-23</td>\n",
       "      <td>1.0</td>\n",
       "      <td>3</td>\n",
       "      <td>woman</td>\n",
       "      <td>female</td>\n",
       "    </tr>\n",
       "  </tbody>\n",
       "</table>\n",
       "</div>"
      ],
      "text/plain": [
       "     A          B    C  D      E       F\n",
       "0  1.0 2023-07-23  1.0  3   girl  female\n",
       "1  1.0 2023-07-23  1.0  3  woman  female\n",
       "2  1.0 2023-07-23  1.0  3   girl  female\n",
       "3  1.0 2023-07-23  1.0  3  woman  female"
      ]
     },
     "execution_count": 6,
     "metadata": {},
     "output_type": "execute_result"
    }
   ],
   "source": [
    "# Creating Dataframe using Dictionary\n",
    "df2 = pd.DataFrame(\n",
    "    {\n",
    "        'A': 1.0,\n",
    "        'B': pd.Timestamp('20230723'),\n",
    "        'C': pd.Series(1, index=list(range(4)), dtype=float),\n",
    "        'D': np.array([3] * 4, dtype=\"int32\"),\n",
    "        'E': pd.Categorical(['girl', 'woman', 'girl', 'woman']),\n",
    "        'F': 'female', \n",
    "    }\n",
    ")\n",
    "df2"
   ]
  },
  {
   "cell_type": "code",
   "execution_count": 7,
   "metadata": {},
   "outputs": [
    {
     "data": {
      "text/plain": [
       "A           float64\n",
       "B    datetime64[ns]\n",
       "C           float64\n",
       "D             int32\n",
       "E          category\n",
       "F            object\n",
       "dtype: object"
      ]
     },
     "execution_count": 7,
     "metadata": {},
     "output_type": "execute_result"
    }
   ],
   "source": [
    "df2.dtypes"
   ]
  },
  {
   "cell_type": "code",
   "execution_count": 9,
   "metadata": {},
   "outputs": [
    {
     "data": {
      "text/html": [
       "<div>\n",
       "<style scoped>\n",
       "    .dataframe tbody tr th:only-of-type {\n",
       "        vertical-align: middle;\n",
       "    }\n",
       "\n",
       "    .dataframe tbody tr th {\n",
       "        vertical-align: top;\n",
       "    }\n",
       "\n",
       "    .dataframe thead th {\n",
       "        text-align: right;\n",
       "    }\n",
       "</style>\n",
       "<table border=\"1\" class=\"dataframe\">\n",
       "  <thead>\n",
       "    <tr style=\"text-align: right;\">\n",
       "      <th></th>\n",
       "      <th>A</th>\n",
       "      <th>B</th>\n",
       "      <th>C</th>\n",
       "      <th>D</th>\n",
       "    </tr>\n",
       "  </thead>\n",
       "  <tbody>\n",
       "    <tr>\n",
       "      <th>2023-01-01</th>\n",
       "      <td>-0.687125</td>\n",
       "      <td>-0.289322</td>\n",
       "      <td>0.136143</td>\n",
       "      <td>1.293307</td>\n",
       "    </tr>\n",
       "    <tr>\n",
       "      <th>2023-01-02</th>\n",
       "      <td>0.681133</td>\n",
       "      <td>-0.517116</td>\n",
       "      <td>0.851075</td>\n",
       "      <td>0.599484</td>\n",
       "    </tr>\n",
       "    <tr>\n",
       "      <th>2023-01-03</th>\n",
       "      <td>-0.633040</td>\n",
       "      <td>-0.762864</td>\n",
       "      <td>0.592309</td>\n",
       "      <td>-1.152378</td>\n",
       "    </tr>\n",
       "  </tbody>\n",
       "</table>\n",
       "</div>"
      ],
      "text/plain": [
       "                   A         B         C         D\n",
       "2023-01-01 -0.687125 -0.289322  0.136143  1.293307\n",
       "2023-01-02  0.681133 -0.517116  0.851075  0.599484\n",
       "2023-01-03 -0.633040 -0.762864  0.592309 -1.152378"
      ]
     },
     "execution_count": 9,
     "metadata": {},
     "output_type": "execute_result"
    }
   ],
   "source": [
    "df.head(3)"
   ]
  },
  {
   "cell_type": "code",
   "execution_count": 10,
   "metadata": {},
   "outputs": [
    {
     "data": {
      "text/html": [
       "<div>\n",
       "<style scoped>\n",
       "    .dataframe tbody tr th:only-of-type {\n",
       "        vertical-align: middle;\n",
       "    }\n",
       "\n",
       "    .dataframe tbody tr th {\n",
       "        vertical-align: top;\n",
       "    }\n",
       "\n",
       "    .dataframe thead th {\n",
       "        text-align: right;\n",
       "    }\n",
       "</style>\n",
       "<table border=\"1\" class=\"dataframe\">\n",
       "  <thead>\n",
       "    <tr style=\"text-align: right;\">\n",
       "      <th></th>\n",
       "      <th>A</th>\n",
       "      <th>B</th>\n",
       "      <th>C</th>\n",
       "      <th>D</th>\n",
       "    </tr>\n",
       "  </thead>\n",
       "  <tbody>\n",
       "    <tr>\n",
       "      <th>2023-01-05</th>\n",
       "      <td>0.145065</td>\n",
       "      <td>0.967164</td>\n",
       "      <td>0.782808</td>\n",
       "      <td>0.910107</td>\n",
       "    </tr>\n",
       "    <tr>\n",
       "      <th>2023-01-06</th>\n",
       "      <td>0.919067</td>\n",
       "      <td>-1.449038</td>\n",
       "      <td>0.775989</td>\n",
       "      <td>-1.062123</td>\n",
       "    </tr>\n",
       "  </tbody>\n",
       "</table>\n",
       "</div>"
      ],
      "text/plain": [
       "                   A         B         C         D\n",
       "2023-01-05  0.145065  0.967164  0.782808  0.910107\n",
       "2023-01-06  0.919067 -1.449038  0.775989 -1.062123"
      ]
     },
     "execution_count": 10,
     "metadata": {},
     "output_type": "execute_result"
    }
   ],
   "source": [
    "df.tail(2)"
   ]
  },
  {
   "cell_type": "code",
   "execution_count": 11,
   "metadata": {},
   "outputs": [
    {
     "data": {
      "text/plain": [
       "DatetimeIndex(['2023-01-01', '2023-01-02', '2023-01-03', '2023-01-04',\n",
       "               '2023-01-05', '2023-01-06'],\n",
       "              dtype='datetime64[ns]', freq='D')"
      ]
     },
     "execution_count": 11,
     "metadata": {},
     "output_type": "execute_result"
    }
   ],
   "source": [
    "df.index # row's name / head"
   ]
  },
  {
   "cell_type": "code",
   "execution_count": 12,
   "metadata": {},
   "outputs": [
    {
     "data": {
      "text/plain": [
       "Index([0, 1, 2, 3], dtype='int64')"
      ]
     },
     "execution_count": 12,
     "metadata": {},
     "output_type": "execute_result"
    }
   ],
   "source": [
    "df2.index"
   ]
  },
  {
   "cell_type": "code",
   "execution_count": 14,
   "metadata": {},
   "outputs": [
    {
     "data": {
      "text/plain": [
       "array([[-0.68712505, -0.28932163,  0.1361426 ,  1.29330688],\n",
       "       [ 0.68113275, -0.51711636,  0.8510748 ,  0.5994837 ],\n",
       "       [-0.63303966, -0.76286444,  0.59230927, -1.15237761],\n",
       "       [-0.83003412,  0.32677334, -0.27094468, -1.00126693],\n",
       "       [ 0.14506501,  0.96716372,  0.78280781,  0.91010654],\n",
       "       [ 0.91906662, -1.44903819,  0.77598908, -1.06212317]])"
      ]
     },
     "execution_count": 14,
     "metadata": {},
     "output_type": "execute_result"
    }
   ],
   "source": [
    "df.to_numpy() # To create or convert to numpy's array   "
   ]
  },
  {
   "cell_type": "code",
   "execution_count": 15,
   "metadata": {},
   "outputs": [
    {
     "data": {
      "text/plain": [
       "array([[1.0, Timestamp('2023-07-23 00:00:00'), 1.0, 3, 'girl', 'female'],\n",
       "       [1.0, Timestamp('2023-07-23 00:00:00'), 1.0, 3, 'woman', 'female'],\n",
       "       [1.0, Timestamp('2023-07-23 00:00:00'), 1.0, 3, 'girl', 'female'],\n",
       "       [1.0, Timestamp('2023-07-23 00:00:00'), 1.0, 3, 'woman', 'female']],\n",
       "      dtype=object)"
      ]
     },
     "execution_count": 15,
     "metadata": {},
     "output_type": "execute_result"
    }
   ],
   "source": [
    "df2.to_numpy()"
   ]
  },
  {
   "cell_type": "code",
   "execution_count": 16,
   "metadata": {},
   "outputs": [
    {
     "data": {
      "text/html": [
       "<div>\n",
       "<style scoped>\n",
       "    .dataframe tbody tr th:only-of-type {\n",
       "        vertical-align: middle;\n",
       "    }\n",
       "\n",
       "    .dataframe tbody tr th {\n",
       "        vertical-align: top;\n",
       "    }\n",
       "\n",
       "    .dataframe thead th {\n",
       "        text-align: right;\n",
       "    }\n",
       "</style>\n",
       "<table border=\"1\" class=\"dataframe\">\n",
       "  <thead>\n",
       "    <tr style=\"text-align: right;\">\n",
       "      <th></th>\n",
       "      <th>A</th>\n",
       "      <th>B</th>\n",
       "      <th>C</th>\n",
       "      <th>D</th>\n",
       "    </tr>\n",
       "  </thead>\n",
       "  <tbody>\n",
       "    <tr>\n",
       "      <th>count</th>\n",
       "      <td>6.000000</td>\n",
       "      <td>6.000000</td>\n",
       "      <td>6.000000</td>\n",
       "      <td>6.000000</td>\n",
       "    </tr>\n",
       "    <tr>\n",
       "      <th>mean</th>\n",
       "      <td>-0.067489</td>\n",
       "      <td>-0.287401</td>\n",
       "      <td>0.477896</td>\n",
       "      <td>-0.068812</td>\n",
       "    </tr>\n",
       "    <tr>\n",
       "      <th>std</th>\n",
       "      <td>0.756859</td>\n",
       "      <td>0.846095</td>\n",
       "      <td>0.449831</td>\n",
       "      <td>1.121653</td>\n",
       "    </tr>\n",
       "    <tr>\n",
       "      <th>min</th>\n",
       "      <td>-0.830034</td>\n",
       "      <td>-1.449038</td>\n",
       "      <td>-0.270945</td>\n",
       "      <td>-1.152378</td>\n",
       "    </tr>\n",
       "    <tr>\n",
       "      <th>25%</th>\n",
       "      <td>-0.673604</td>\n",
       "      <td>-0.701427</td>\n",
       "      <td>0.250184</td>\n",
       "      <td>-1.046909</td>\n",
       "    </tr>\n",
       "    <tr>\n",
       "      <th>50%</th>\n",
       "      <td>-0.243987</td>\n",
       "      <td>-0.403219</td>\n",
       "      <td>0.684149</td>\n",
       "      <td>-0.200892</td>\n",
       "    </tr>\n",
       "    <tr>\n",
       "      <th>75%</th>\n",
       "      <td>0.547116</td>\n",
       "      <td>0.172750</td>\n",
       "      <td>0.781103</td>\n",
       "      <td>0.832451</td>\n",
       "    </tr>\n",
       "    <tr>\n",
       "      <th>max</th>\n",
       "      <td>0.919067</td>\n",
       "      <td>0.967164</td>\n",
       "      <td>0.851075</td>\n",
       "      <td>1.293307</td>\n",
       "    </tr>\n",
       "  </tbody>\n",
       "</table>\n",
       "</div>"
      ],
      "text/plain": [
       "              A         B         C         D\n",
       "count  6.000000  6.000000  6.000000  6.000000\n",
       "mean  -0.067489 -0.287401  0.477896 -0.068812\n",
       "std    0.756859  0.846095  0.449831  1.121653\n",
       "min   -0.830034 -1.449038 -0.270945 -1.152378\n",
       "25%   -0.673604 -0.701427  0.250184 -1.046909\n",
       "50%   -0.243987 -0.403219  0.684149 -0.200892\n",
       "75%    0.547116  0.172750  0.781103  0.832451\n",
       "max    0.919067  0.967164  0.851075  1.293307"
      ]
     },
     "execution_count": 16,
     "metadata": {},
     "output_type": "execute_result"
    }
   ],
   "source": [
    "df.describe()"
   ]
  },
  {
   "cell_type": "code",
   "execution_count": 17,
   "metadata": {},
   "outputs": [
    {
     "data": {
      "text/html": [
       "<div>\n",
       "<style scoped>\n",
       "    .dataframe tbody tr th:only-of-type {\n",
       "        vertical-align: middle;\n",
       "    }\n",
       "\n",
       "    .dataframe tbody tr th {\n",
       "        vertical-align: top;\n",
       "    }\n",
       "\n",
       "    .dataframe thead th {\n",
       "        text-align: right;\n",
       "    }\n",
       "</style>\n",
       "<table border=\"1\" class=\"dataframe\">\n",
       "  <thead>\n",
       "    <tr style=\"text-align: right;\">\n",
       "      <th></th>\n",
       "      <th>2023-01-01</th>\n",
       "      <th>2023-01-02</th>\n",
       "      <th>2023-01-03</th>\n",
       "      <th>2023-01-04</th>\n",
       "      <th>2023-01-05</th>\n",
       "      <th>2023-01-06</th>\n",
       "    </tr>\n",
       "  </thead>\n",
       "  <tbody>\n",
       "    <tr>\n",
       "      <th>A</th>\n",
       "      <td>-0.687125</td>\n",
       "      <td>0.681133</td>\n",
       "      <td>-0.633040</td>\n",
       "      <td>-0.830034</td>\n",
       "      <td>0.145065</td>\n",
       "      <td>0.919067</td>\n",
       "    </tr>\n",
       "    <tr>\n",
       "      <th>B</th>\n",
       "      <td>-0.289322</td>\n",
       "      <td>-0.517116</td>\n",
       "      <td>-0.762864</td>\n",
       "      <td>0.326773</td>\n",
       "      <td>0.967164</td>\n",
       "      <td>-1.449038</td>\n",
       "    </tr>\n",
       "    <tr>\n",
       "      <th>C</th>\n",
       "      <td>0.136143</td>\n",
       "      <td>0.851075</td>\n",
       "      <td>0.592309</td>\n",
       "      <td>-0.270945</td>\n",
       "      <td>0.782808</td>\n",
       "      <td>0.775989</td>\n",
       "    </tr>\n",
       "    <tr>\n",
       "      <th>D</th>\n",
       "      <td>1.293307</td>\n",
       "      <td>0.599484</td>\n",
       "      <td>-1.152378</td>\n",
       "      <td>-1.001267</td>\n",
       "      <td>0.910107</td>\n",
       "      <td>-1.062123</td>\n",
       "    </tr>\n",
       "  </tbody>\n",
       "</table>\n",
       "</div>"
      ],
      "text/plain": [
       "   2023-01-01  2023-01-02  2023-01-03  2023-01-04  2023-01-05  2023-01-06\n",
       "A   -0.687125    0.681133   -0.633040   -0.830034    0.145065    0.919067\n",
       "B   -0.289322   -0.517116   -0.762864    0.326773    0.967164   -1.449038\n",
       "C    0.136143    0.851075    0.592309   -0.270945    0.782808    0.775989\n",
       "D    1.293307    0.599484   -1.152378   -1.001267    0.910107   -1.062123"
      ]
     },
     "execution_count": 17,
     "metadata": {},
     "output_type": "execute_result"
    }
   ],
   "source": [
    "df.T # To transpose the data"
   ]
  },
  {
   "cell_type": "code",
   "execution_count": 18,
   "metadata": {},
   "outputs": [
    {
     "data": {
      "text/html": [
       "<div>\n",
       "<style scoped>\n",
       "    .dataframe tbody tr th:only-of-type {\n",
       "        vertical-align: middle;\n",
       "    }\n",
       "\n",
       "    .dataframe tbody tr th {\n",
       "        vertical-align: top;\n",
       "    }\n",
       "\n",
       "    .dataframe thead th {\n",
       "        text-align: right;\n",
       "    }\n",
       "</style>\n",
       "<table border=\"1\" class=\"dataframe\">\n",
       "  <thead>\n",
       "    <tr style=\"text-align: right;\">\n",
       "      <th></th>\n",
       "      <th>D</th>\n",
       "      <th>C</th>\n",
       "      <th>B</th>\n",
       "      <th>A</th>\n",
       "    </tr>\n",
       "  </thead>\n",
       "  <tbody>\n",
       "    <tr>\n",
       "      <th>2023-01-01</th>\n",
       "      <td>1.293307</td>\n",
       "      <td>0.136143</td>\n",
       "      <td>-0.289322</td>\n",
       "      <td>-0.687125</td>\n",
       "    </tr>\n",
       "    <tr>\n",
       "      <th>2023-01-02</th>\n",
       "      <td>0.599484</td>\n",
       "      <td>0.851075</td>\n",
       "      <td>-0.517116</td>\n",
       "      <td>0.681133</td>\n",
       "    </tr>\n",
       "    <tr>\n",
       "      <th>2023-01-03</th>\n",
       "      <td>-1.152378</td>\n",
       "      <td>0.592309</td>\n",
       "      <td>-0.762864</td>\n",
       "      <td>-0.633040</td>\n",
       "    </tr>\n",
       "    <tr>\n",
       "      <th>2023-01-04</th>\n",
       "      <td>-1.001267</td>\n",
       "      <td>-0.270945</td>\n",
       "      <td>0.326773</td>\n",
       "      <td>-0.830034</td>\n",
       "    </tr>\n",
       "    <tr>\n",
       "      <th>2023-01-05</th>\n",
       "      <td>0.910107</td>\n",
       "      <td>0.782808</td>\n",
       "      <td>0.967164</td>\n",
       "      <td>0.145065</td>\n",
       "    </tr>\n",
       "    <tr>\n",
       "      <th>2023-01-06</th>\n",
       "      <td>-1.062123</td>\n",
       "      <td>0.775989</td>\n",
       "      <td>-1.449038</td>\n",
       "      <td>0.919067</td>\n",
       "    </tr>\n",
       "  </tbody>\n",
       "</table>\n",
       "</div>"
      ],
      "text/plain": [
       "                   D         C         B         A\n",
       "2023-01-01  1.293307  0.136143 -0.289322 -0.687125\n",
       "2023-01-02  0.599484  0.851075 -0.517116  0.681133\n",
       "2023-01-03 -1.152378  0.592309 -0.762864 -0.633040\n",
       "2023-01-04 -1.001267 -0.270945  0.326773 -0.830034\n",
       "2023-01-05  0.910107  0.782808  0.967164  0.145065\n",
       "2023-01-06 -1.062123  0.775989 -1.449038  0.919067"
      ]
     },
     "execution_count": 18,
     "metadata": {},
     "output_type": "execute_result"
    }
   ],
   "source": [
    "# Sorting\n",
    "df.sort_index(axis=1, ascending=False)"
   ]
  },
  {
   "cell_type": "code",
   "execution_count": 21,
   "metadata": {},
   "outputs": [
    {
     "data": {
      "text/html": [
       "<div>\n",
       "<style scoped>\n",
       "    .dataframe tbody tr th:only-of-type {\n",
       "        vertical-align: middle;\n",
       "    }\n",
       "\n",
       "    .dataframe tbody tr th {\n",
       "        vertical-align: top;\n",
       "    }\n",
       "\n",
       "    .dataframe thead th {\n",
       "        text-align: right;\n",
       "    }\n",
       "</style>\n",
       "<table border=\"1\" class=\"dataframe\">\n",
       "  <thead>\n",
       "    <tr style=\"text-align: right;\">\n",
       "      <th></th>\n",
       "      <th>A</th>\n",
       "      <th>B</th>\n",
       "      <th>C</th>\n",
       "      <th>D</th>\n",
       "    </tr>\n",
       "  </thead>\n",
       "  <tbody>\n",
       "    <tr>\n",
       "      <th>2023-01-01</th>\n",
       "      <td>-0.687125</td>\n",
       "      <td>-0.289322</td>\n",
       "      <td>0.136143</td>\n",
       "      <td>1.293307</td>\n",
       "    </tr>\n",
       "    <tr>\n",
       "      <th>2023-01-02</th>\n",
       "      <td>0.681133</td>\n",
       "      <td>-0.517116</td>\n",
       "      <td>0.851075</td>\n",
       "      <td>0.599484</td>\n",
       "    </tr>\n",
       "    <tr>\n",
       "      <th>2023-01-03</th>\n",
       "      <td>-0.633040</td>\n",
       "      <td>-0.762864</td>\n",
       "      <td>0.592309</td>\n",
       "      <td>-1.152378</td>\n",
       "    </tr>\n",
       "    <tr>\n",
       "      <th>2023-01-04</th>\n",
       "      <td>-0.830034</td>\n",
       "      <td>0.326773</td>\n",
       "      <td>-0.270945</td>\n",
       "      <td>-1.001267</td>\n",
       "    </tr>\n",
       "    <tr>\n",
       "      <th>2023-01-05</th>\n",
       "      <td>0.145065</td>\n",
       "      <td>0.967164</td>\n",
       "      <td>0.782808</td>\n",
       "      <td>0.910107</td>\n",
       "    </tr>\n",
       "    <tr>\n",
       "      <th>2023-01-06</th>\n",
       "      <td>0.919067</td>\n",
       "      <td>-1.449038</td>\n",
       "      <td>0.775989</td>\n",
       "      <td>-1.062123</td>\n",
       "    </tr>\n",
       "  </tbody>\n",
       "</table>\n",
       "</div>"
      ],
      "text/plain": [
       "                   A         B         C         D\n",
       "2023-01-01 -0.687125 -0.289322  0.136143  1.293307\n",
       "2023-01-02  0.681133 -0.517116  0.851075  0.599484\n",
       "2023-01-03 -0.633040 -0.762864  0.592309 -1.152378\n",
       "2023-01-04 -0.830034  0.326773 -0.270945 -1.001267\n",
       "2023-01-05  0.145065  0.967164  0.782808  0.910107\n",
       "2023-01-06  0.919067 -1.449038  0.775989 -1.062123"
      ]
     },
     "execution_count": 21,
     "metadata": {},
     "output_type": "execute_result"
    }
   ],
   "source": [
    "df.sort_index(axis=1, ascending=True)"
   ]
  },
  {
   "cell_type": "code",
   "execution_count": 24,
   "metadata": {},
   "outputs": [
    {
     "data": {
      "text/html": [
       "<div>\n",
       "<style scoped>\n",
       "    .dataframe tbody tr th:only-of-type {\n",
       "        vertical-align: middle;\n",
       "    }\n",
       "\n",
       "    .dataframe tbody tr th {\n",
       "        vertical-align: top;\n",
       "    }\n",
       "\n",
       "    .dataframe thead th {\n",
       "        text-align: right;\n",
       "    }\n",
       "</style>\n",
       "<table border=\"1\" class=\"dataframe\">\n",
       "  <thead>\n",
       "    <tr style=\"text-align: right;\">\n",
       "      <th></th>\n",
       "      <th>A</th>\n",
       "      <th>B</th>\n",
       "      <th>C</th>\n",
       "      <th>D</th>\n",
       "    </tr>\n",
       "  </thead>\n",
       "  <tbody>\n",
       "    <tr>\n",
       "      <th>2023-01-06</th>\n",
       "      <td>0.919067</td>\n",
       "      <td>-1.449038</td>\n",
       "      <td>0.775989</td>\n",
       "      <td>-1.062123</td>\n",
       "    </tr>\n",
       "    <tr>\n",
       "      <th>2023-01-03</th>\n",
       "      <td>-0.633040</td>\n",
       "      <td>-0.762864</td>\n",
       "      <td>0.592309</td>\n",
       "      <td>-1.152378</td>\n",
       "    </tr>\n",
       "    <tr>\n",
       "      <th>2023-01-02</th>\n",
       "      <td>0.681133</td>\n",
       "      <td>-0.517116</td>\n",
       "      <td>0.851075</td>\n",
       "      <td>0.599484</td>\n",
       "    </tr>\n",
       "    <tr>\n",
       "      <th>2023-01-01</th>\n",
       "      <td>-0.687125</td>\n",
       "      <td>-0.289322</td>\n",
       "      <td>0.136143</td>\n",
       "      <td>1.293307</td>\n",
       "    </tr>\n",
       "    <tr>\n",
       "      <th>2023-01-04</th>\n",
       "      <td>-0.830034</td>\n",
       "      <td>0.326773</td>\n",
       "      <td>-0.270945</td>\n",
       "      <td>-1.001267</td>\n",
       "    </tr>\n",
       "    <tr>\n",
       "      <th>2023-01-05</th>\n",
       "      <td>0.145065</td>\n",
       "      <td>0.967164</td>\n",
       "      <td>0.782808</td>\n",
       "      <td>0.910107</td>\n",
       "    </tr>\n",
       "  </tbody>\n",
       "</table>\n",
       "</div>"
      ],
      "text/plain": [
       "                   A         B         C         D\n",
       "2023-01-06  0.919067 -1.449038  0.775989 -1.062123\n",
       "2023-01-03 -0.633040 -0.762864  0.592309 -1.152378\n",
       "2023-01-02  0.681133 -0.517116  0.851075  0.599484\n",
       "2023-01-01 -0.687125 -0.289322  0.136143  1.293307\n",
       "2023-01-04 -0.830034  0.326773 -0.270945 -1.001267\n",
       "2023-01-05  0.145065  0.967164  0.782808  0.910107"
      ]
     },
     "execution_count": 24,
     "metadata": {},
     "output_type": "execute_result"
    }
   ],
   "source": [
    "df.sort_values(by=\"B\")"
   ]
  },
  {
   "cell_type": "code",
   "execution_count": 25,
   "metadata": {},
   "outputs": [
    {
     "data": {
      "text/html": [
       "<div>\n",
       "<style scoped>\n",
       "    .dataframe tbody tr th:only-of-type {\n",
       "        vertical-align: middle;\n",
       "    }\n",
       "\n",
       "    .dataframe tbody tr th {\n",
       "        vertical-align: top;\n",
       "    }\n",
       "\n",
       "    .dataframe thead th {\n",
       "        text-align: right;\n",
       "    }\n",
       "</style>\n",
       "<table border=\"1\" class=\"dataframe\">\n",
       "  <thead>\n",
       "    <tr style=\"text-align: right;\">\n",
       "      <th></th>\n",
       "      <th>A</th>\n",
       "      <th>B</th>\n",
       "      <th>C</th>\n",
       "      <th>D</th>\n",
       "    </tr>\n",
       "  </thead>\n",
       "  <tbody>\n",
       "    <tr>\n",
       "      <th>2023-01-06</th>\n",
       "      <td>0.919067</td>\n",
       "      <td>-1.449038</td>\n",
       "      <td>0.775989</td>\n",
       "      <td>-1.062123</td>\n",
       "    </tr>\n",
       "    <tr>\n",
       "      <th>2023-01-03</th>\n",
       "      <td>-0.633040</td>\n",
       "      <td>-0.762864</td>\n",
       "      <td>0.592309</td>\n",
       "      <td>-1.152378</td>\n",
       "    </tr>\n",
       "    <tr>\n",
       "      <th>2023-01-02</th>\n",
       "      <td>0.681133</td>\n",
       "      <td>-0.517116</td>\n",
       "      <td>0.851075</td>\n",
       "      <td>0.599484</td>\n",
       "    </tr>\n",
       "    <tr>\n",
       "      <th>2023-01-01</th>\n",
       "      <td>-0.687125</td>\n",
       "      <td>-0.289322</td>\n",
       "      <td>0.136143</td>\n",
       "      <td>1.293307</td>\n",
       "    </tr>\n",
       "    <tr>\n",
       "      <th>2023-01-04</th>\n",
       "      <td>-0.830034</td>\n",
       "      <td>0.326773</td>\n",
       "      <td>-0.270945</td>\n",
       "      <td>-1.001267</td>\n",
       "    </tr>\n",
       "    <tr>\n",
       "      <th>2023-01-05</th>\n",
       "      <td>0.145065</td>\n",
       "      <td>0.967164</td>\n",
       "      <td>0.782808</td>\n",
       "      <td>0.910107</td>\n",
       "    </tr>\n",
       "  </tbody>\n",
       "</table>\n",
       "</div>"
      ],
      "text/plain": [
       "                   A         B         C         D\n",
       "2023-01-06  0.919067 -1.449038  0.775989 -1.062123\n",
       "2023-01-03 -0.633040 -0.762864  0.592309 -1.152378\n",
       "2023-01-02  0.681133 -0.517116  0.851075  0.599484\n",
       "2023-01-01 -0.687125 -0.289322  0.136143  1.293307\n",
       "2023-01-04 -0.830034  0.326773 -0.270945 -1.001267\n",
       "2023-01-05  0.145065  0.967164  0.782808  0.910107"
      ]
     },
     "execution_count": 25,
     "metadata": {},
     "output_type": "execute_result"
    }
   ],
   "source": [
    "df.sort_values(by=\"B\", ascending=True)"
   ]
  },
  {
   "cell_type": "code",
   "execution_count": 26,
   "metadata": {},
   "outputs": [
    {
     "data": {
      "text/plain": [
       "2023-01-01   -0.289322\n",
       "2023-01-02   -0.517116\n",
       "2023-01-03   -0.762864\n",
       "2023-01-04    0.326773\n",
       "2023-01-05    0.967164\n",
       "2023-01-06   -1.449038\n",
       "Freq: D, Name: B, dtype: float64"
      ]
     },
     "execution_count": 26,
     "metadata": {},
     "output_type": "execute_result"
    }
   ],
   "source": [
    "# Filtering data based on values\n",
    "df[\"B\"] "
   ]
  },
  {
   "cell_type": "code",
   "execution_count": null,
   "metadata": {},
   "outputs": [],
   "source": []
  }
 ],
 "metadata": {
  "kernelspec": {
   "display_name": "Python 3",
   "language": "python",
   "name": "python3"
  },
  "language_info": {
   "codemirror_mode": {
    "name": "ipython",
    "version": 3
   },
   "file_extension": ".py",
   "mimetype": "text/x-python",
   "name": "python",
   "nbconvert_exporter": "python",
   "pygments_lexer": "ipython3",
   "version": "3.10.7"
  },
  "orig_nbformat": 4
 },
 "nbformat": 4,
 "nbformat_minor": 2
}
